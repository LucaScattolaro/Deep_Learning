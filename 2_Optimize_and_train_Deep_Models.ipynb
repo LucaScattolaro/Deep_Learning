{
  "nbformat": 4,
  "nbformat_minor": 0,
  "metadata": {
    "colab": {
      "name": "2_Optimize_and_train_Deep_Models.ipynb",
      "provenance": [],
      "collapsed_sections": [],
      "toc_visible": true
    },
    "kernelspec": {
      "display_name": "Python 3",
      "language": "python",
      "name": "python3"
    },
    "language_info": {
      "codemirror_mode": {
        "name": "ipython",
        "version": 3
      },
      "file_extension": ".py",
      "mimetype": "text/x-python",
      "name": "python",
      "nbconvert_exporter": "python",
      "pygments_lexer": "ipython3",
      "version": "3.8.3"
    }
  },
  "cells": [
    {
      "cell_type": "markdown",
      "metadata": {
        "id": "QUc9frYnVBI_"
      },
      "source": [
        "#**HW 2: Optimize and train Deep Models**\n",
        "\n",
        "In this homework, we will explore how to develop a simple Deep Neural Network for a classification problem. We will explore two common libraries: TensorFlow and Keras.\n",
        "Then we will explore how to face a well known problem that is common to encounter during the training phase: the Overfitting.\n",
        "Finally, we will study how to perform a fair model selection.\n",
        "Hint: Before starting the exercise take a look at how Tensorflow and Keras are designed.  https://keras.io/"
      ]
    },
    {
      "cell_type": "markdown",
      "metadata": {
        "id": "e-Nc7mFSVEiU"
      },
      "source": [
        "##Exercise 2.1: Image Classficiation with Tensorflow and Keras\n",
        "\n",
        "In this first exercise we will develop a 3 layers Neural Network to perfrom classification.\n",
        "\n",
        "Let's start importing the libraries we will need and setting a couple of environmental variables.\n"
      ]
    },
    {
      "cell_type": "code",
      "metadata": {
        "id": "bWn9FzneVqJo"
      },
      "source": [
        "import matplotlib as mpl\n",
        "import matplotlib.pyplot as plt\n",
        "import numpy as np\n",
        "import os\n",
        "import pandas as pd\n",
        "import sklearn\n",
        "import sys\n",
        "import tensorflow as tf\n",
        "from tensorflow import keras  # tf.keras\n",
        "import time\n",
        "\n",
        "import logging\n",
        "logging.disable(logging.WARNING)\n",
        "os.environ[\"TF_CPP_MIN_LOG_LEVEL\"] = \"3\" \n",
        "\n",
        "\n",
        "\n",
        "tf.random.set_seed(42)\n",
        "# os.environ['TF_DETERMINISTIC_OPS']='1'"
      ],
      "execution_count": null,
      "outputs": []
    },
    {
      "cell_type": "markdown",
      "metadata": {
        "id": "LT2HMYDEXcx0"
      },
      "source": [
        "### Load Data: IMDB dataset\n",
        "\n",
        "In this HW, we use the IMDB dataset that can be easily downloaded using Keras. The dataset contains 50,000 movie reviews from IMDB, labeled by sentiment (positive/negative). Reviews have been preprocessed, and each review is encoded as a sequence of word indexes. For convenience, the words are indexed by the overall frequency in the dataset, so that for example the integer \"3\" encodes the 3rd most frequent word in the data. For testing purposes, we will only consider the first 10,000  most common words.\n",
        "By default, the load_data method returns a breakdown of the dataset into training and test sets. Both these sets contain 25,000 samples. To also have a validation set, we split the test set in half.\n",
        "\n"
      ]
    },
    {
      "cell_type": "code",
      "metadata": {
        "id": "JZv86gBLXj-D",
        "colab": {
          "base_uri": "https://localhost:8080/"
        },
        "outputId": "da307554-2c14-4678-bf15-dd572a95c985"
      },
      "source": [
        "num_words = 1000\n",
        "(X_train, y_train), (X_test, y_test) = keras.datasets.imdb.load_data(num_words=num_words)\n",
        "(X_valid, X_test) = X_test[:12500], X_test[12500:]\n",
        "(y_valid, y_test) = y_test[:12500], y_test[12500:]"
      ],
      "execution_count": null,
      "outputs": [
        {
          "output_type": "stream",
          "text": [
            "<string>:6: VisibleDeprecationWarning: Creating an ndarray from ragged nested sequences (which is a list-or-tuple of lists-or-tuples-or ndarrays with different lengths or shapes) is deprecated. If you meant to do this, you must specify 'dtype=object' when creating the ndarray\n",
            "/usr/local/lib/python3.7/dist-packages/tensorflow/python/keras/datasets/imdb.py:159: VisibleDeprecationWarning: Creating an ndarray from ragged nested sequences (which is a list-or-tuple of lists-or-tuples-or ndarrays with different lengths or shapes) is deprecated. If you meant to do this, you must specify 'dtype=object' when creating the ndarray\n",
            "  x_train, y_train = np.array(xs[:idx]), np.array(labels[:idx])\n",
            "/usr/local/lib/python3.7/dist-packages/tensorflow/python/keras/datasets/imdb.py:160: VisibleDeprecationWarning: Creating an ndarray from ragged nested sequences (which is a list-or-tuple of lists-or-tuples-or ndarrays with different lengths or shapes) is deprecated. If you meant to do this, you must specify 'dtype=object' when creating the ndarray\n",
            "  x_test, y_test = np.array(xs[idx:]), np.array(labels[idx:])\n"
          ],
          "name": "stderr"
        }
      ]
    },
    {
      "cell_type": "markdown",
      "metadata": {
        "id": "TEZHVHpuPdQF"
      },
      "source": [
        "In this HW we will consider a Deep Neural Network. The IMDB data consists in reviews, each one composed by a seqeunce of words. In order to encode each review in a single tensor with a fixed number of elements, we will use multi-hot encoding. Multi-hot-encoding our lists means turning them into vectors of 0s and 1s. Concretely, this would mean for instance turning the sequence [3, 5] into a 10,000-dimensional vector that would be all-zeros except for indices 3 and 5, which would be ones. The obtained input representation indicates which words are present (at least one time) in the sentence.\n",
        "\n",
        " "
      ]
    },
    {
      "cell_type": "code",
      "metadata": {
        "id": "hxE9DhiFPP0T"
      },
      "source": [
        "def multi_hot_encoder(dataset, num_word):\n",
        "  dataset_multi_hot=[]\n",
        "  for sequence in dataset:\n",
        "    index, _ = tf.unique(sequence)\n",
        "    dataset_multi_hot.append(tf.reduce_max(tf.one_hot(index-1, num_word, dtype=tf.int32), axis=0))\n",
        "  dataset_multi_hot = tf.stack(dataset_multi_hot)\n",
        "  return dataset_multi_hot\n",
        "\n",
        "X_train = multi_hot_encoder(X_train,num_words)\n",
        "X_test = multi_hot_encoder(X_test,num_words)\n",
        "X_valid = multi_hot_encoder(X_valid,num_words)"
      ],
      "execution_count": null,
      "outputs": []
    },
    {
      "cell_type": "markdown",
      "metadata": {
        "id": "jGUg8TexZMNf"
      },
      "source": [
        "### Define the model:\n",
        "\n",
        "Let's build a Sequential model (keras.models.Sequential) and add four layers to it by calling its add() method:\n",
        "\n",
        "\n",
        "*   a input layer (tf.keras.Input) that is the first layer in your model. With this layer you should specify the input_shape argument, leaving out the batch size: (num_words,);\n",
        "*  a Dense layer (keras.layers.Dense) with 16 neurons, and the \"relu\" activation function;\n",
        "* another Dense layer with 16 neurons, also with the \"relu\" activation function;\n",
        "* a final Dense layer with 1 output neurons, and with the \"sigmoid\" activation (since we considering a binary classification task)."
      ]
    },
    {
      "cell_type": "code",
      "metadata": {
        "id": "OaoEISyaZL56"
      },
      "source": [
        "model = keras.models.Sequential()\n",
        "model.add(tf.keras.Input(shape=(num_words,)))\n",
        "model.add(keras.layers.Dense(16, activation=\"relu\"))\n",
        "model.add(keras.layers.Dense(16, activation=\"relu\"))\n",
        "model.add(keras.layers.Dense(1, activation=\"sigmoid\"))"
      ],
      "execution_count": null,
      "outputs": []
    },
    {
      "cell_type": "markdown",
      "metadata": {
        "id": "fYfxUOQVZljh"
      },
      "source": [
        "Call the model's summary() method to check if the model has been built correctly. Also, try using keras.utils.plot_model() to save an image of your model's architecture."
      ]
    },
    {
      "cell_type": "code",
      "metadata": {
        "id": "IpGkQl5dZoWq",
        "colab": {
          "base_uri": "https://localhost:8080/"
        },
        "outputId": "286072ab-c995-45f9-a5b7-7c4d80fdfa57"
      },
      "source": [
        "model.summary()"
      ],
      "execution_count": null,
      "outputs": [
        {
          "output_type": "stream",
          "text": [
            "Model: \"sequential\"\n",
            "_________________________________________________________________\n",
            "Layer (type)                 Output Shape              Param #   \n",
            "=================================================================\n",
            "dense (Dense)                (None, 16)                16016     \n",
            "_________________________________________________________________\n",
            "dense_1 (Dense)              (None, 16)                272       \n",
            "_________________________________________________________________\n",
            "dense_2 (Dense)              (None, 1)                 17        \n",
            "=================================================================\n",
            "Total params: 16,305\n",
            "Trainable params: 16,305\n",
            "Non-trainable params: 0\n",
            "_________________________________________________________________\n"
          ],
          "name": "stdout"
        }
      ]
    },
    {
      "cell_type": "code",
      "metadata": {
        "id": "b1NbkrXRZwOA",
        "colab": {
          "base_uri": "https://localhost:8080/",
          "height": 422
        },
        "outputId": "217e254a-ff90-484a-8da0-f9e2c8f62d2b"
      },
      "source": [
        "keras.utils.plot_model(model, \"my_imdb_model.png\", show_shapes=True)"
      ],
      "execution_count": null,
      "outputs": [
        {
          "output_type": "execute_result",
          "data": {
            "image/png": "[encoded data removed]",
            "text/plain": [
              "<IPython.core.display.Image object>"
            ]
          },
          "metadata": {
            "tags": []
          },
          "execution_count": 6
        }
      ]
    },
    {
      "cell_type": "markdown",
      "metadata": {
        "id": "Mc3xzuA-33WH"
      },
      "source": [
        "As you can see, the first dimension of each layer is not defined (?), indeed this dimension in each layer is variable and depends on the batch size."
      ]
    },
    {
      "cell_type": "markdown",
      "metadata": {
        "id": "6FAjFixuHSA_"
      },
      "source": [
        "Instaed of using *add()* method it is also possibile to define the model using the following syntax"
      ]
    },
    {
      "cell_type": "code",
      "metadata": {
        "id": "yOhr57M9GPHy",
        "colab": {
          "base_uri": "https://localhost:8080/",
          "height": 658
        },
        "outputId": "547bcaaa-714e-4165-fcc9-f61070cd1fb3"
      },
      "source": [
        "model = keras.models.Sequential([\n",
        "    tf.keras.Input(shape=(num_words,)),\n",
        "    keras.layers.Dense(16, activation=\"relu\"),\n",
        "    keras.layers.Dense(16, activation=\"relu\"),\n",
        "    keras.layers.Dense(1, activation=\"sigmoid\")\n",
        "])\n",
        "model.summary()\n",
        "keras.utils.plot_model(model, \"my_imdb_model.png\", show_shapes=True)"
      ],
      "execution_count": null,
      "outputs": [
        {
          "output_type": "stream",
          "text": [
            "Model: \"sequential_1\"\n",
            "_________________________________________________________________\n",
            "Layer (type)                 Output Shape              Param #   \n",
            "=================================================================\n",
            "dense_3 (Dense)              (None, 16)                16016     \n",
            "_________________________________________________________________\n",
            "dense_4 (Dense)              (None, 16)                272       \n",
            "_________________________________________________________________\n",
            "dense_5 (Dense)              (None, 1)                 17        \n",
            "=================================================================\n",
            "Total params: 16,305\n",
            "Trainable params: 16,305\n",
            "Non-trainable params: 0\n",
            "_________________________________________________________________\n"
          ],
          "name": "stdout"
        },
        {
          "output_type": "execute_result",
          "data": {
            "image/png": "[encoded data removed]",
            "text/plain": [
              "<IPython.core.display.Image object>"
            ]
          },
          "metadata": {
            "tags": []
          },
          "execution_count": 7
        }
      ]
    },
    {
      "cell_type": "markdown",
      "metadata": {
        "id": "2ySdJmzxaSuz"
      },
      "source": [
        "### Optimize the model:\n",
        "\n",
        "After the model has been created, you must call its compile() method to specify the loss function and the optimizer to use.\n",
        "\n",
        "Since the model performs a binary classification task, we use the bynary cross-entropy as loss. As optimizer we use Adam.\n",
        "\n",
        "Moreover, you can optionally specify a list of additional metrics that should be measured during training. In this case we specify metrics=[\"accuracy\"]."
      ]
    },
    {
      "cell_type": "code",
      "metadata": {
        "id": "x3bbsY3uaeh5"
      },
      "source": [
        "model.compile(loss=\"binary_crossentropy\",\n",
        "              optimizer=keras.optimizers.Adam(learning_rate=1e-4),\n",
        "              metrics=[\"accuracy\"])"
      ],
      "execution_count": null,
      "outputs": []
    },
    {
      "cell_type": "markdown",
      "metadata": {
        "id": "NB9SV0MpaeTg"
      },
      "source": [
        "Now our model is ready to be trained. Call its fit() method, passing to it the input features (X_train) and the target classes (y_train). Set the number of epochs to 20. \n",
        "In order to validate our model we will also pass the validation data by setting validation_data=(X_valid, y_valid). Keras will compute the loss and the additional metrics (the accuracy in this case) on the validation set at the end of each epoch. If the loss on the training set is much lower than the one on the validation set, your model is probably overfitting the training set. Note: the fit() method will return a History object containing training stats."
      ]
    },
    {
      "cell_type": "code",
      "metadata": {
        "id": "5whx-LU3aoKn",
        "colab": {
          "base_uri": "https://localhost:8080/"
        },
        "outputId": "cb9f9c92-b24f-4f18-c514-efad5e1e6bfb"
      },
      "source": [
        "history = model.fit(X_train, y_train, epochs=20,\n",
        "                    validation_data=(X_valid, y_valid))"
      ],
      "execution_count": null,
      "outputs": [
        {
          "output_type": "stream",
          "text": [
            "Epoch 1/20\n",
            "782/782 [==============================] - 3s 3ms/step - loss: 0.6691 - accuracy: 0.5917 - val_loss: 0.5086 - val_accuracy: 0.7899\n",
            "Epoch 2/20\n",
            "782/782 [==============================] - 2s 2ms/step - loss: 0.4609 - accuracy: 0.8105 - val_loss: 0.3856 - val_accuracy: 0.8406\n",
            "Epoch 3/20\n",
            "782/782 [==============================] - 2s 2ms/step - loss: 0.3556 - accuracy: 0.8580 - val_loss: 0.3534 - val_accuracy: 0.8515\n",
            "Epoch 4/20\n",
            "782/782 [==============================] - 2s 2ms/step - loss: 0.3298 - accuracy: 0.8647 - val_loss: 0.3407 - val_accuracy: 0.8543\n",
            "Epoch 5/20\n",
            "782/782 [==============================] - 2s 2ms/step - loss: 0.3148 - accuracy: 0.8714 - val_loss: 0.3377 - val_accuracy: 0.8555\n",
            "Epoch 6/20\n",
            "782/782 [==============================] - 2s 2ms/step - loss: 0.3055 - accuracy: 0.8712 - val_loss: 0.3344 - val_accuracy: 0.8565\n",
            "Epoch 7/20\n",
            "782/782 [==============================] - 2s 2ms/step - loss: 0.2989 - accuracy: 0.8771 - val_loss: 0.3344 - val_accuracy: 0.8562\n",
            "Epoch 8/20\n",
            "782/782 [==============================] - 2s 2ms/step - loss: 0.3030 - accuracy: 0.8742 - val_loss: 0.3344 - val_accuracy: 0.8557\n",
            "Epoch 9/20\n",
            "782/782 [==============================] - 2s 2ms/step - loss: 0.2970 - accuracy: 0.8784 - val_loss: 0.3352 - val_accuracy: 0.8549\n",
            "Epoch 10/20\n",
            "782/782 [==============================] - 2s 2ms/step - loss: 0.2928 - accuracy: 0.8781 - val_loss: 0.3355 - val_accuracy: 0.8552\n",
            "Epoch 11/20\n",
            "782/782 [==============================] - 2s 2ms/step - loss: 0.2966 - accuracy: 0.8797 - val_loss: 0.3366 - val_accuracy: 0.8539\n",
            "Epoch 12/20\n",
            "782/782 [==============================] - 2s 2ms/step - loss: 0.2865 - accuracy: 0.8849 - val_loss: 0.3373 - val_accuracy: 0.8549\n",
            "Epoch 13/20\n",
            "782/782 [==============================] - 2s 2ms/step - loss: 0.2954 - accuracy: 0.8803 - val_loss: 0.3393 - val_accuracy: 0.8543\n",
            "Epoch 14/20\n",
            "782/782 [==============================] - 2s 2ms/step - loss: 0.2856 - accuracy: 0.8837 - val_loss: 0.3387 - val_accuracy: 0.8536\n",
            "Epoch 15/20\n",
            "782/782 [==============================] - 2s 2ms/step - loss: 0.2884 - accuracy: 0.8822 - val_loss: 0.3398 - val_accuracy: 0.8538\n",
            "Epoch 16/20\n",
            "782/782 [==============================] - 2s 2ms/step - loss: 0.2878 - accuracy: 0.8806 - val_loss: 0.3405 - val_accuracy: 0.8534\n",
            "Epoch 17/20\n",
            "782/782 [==============================] - 2s 2ms/step - loss: 0.2871 - accuracy: 0.8821 - val_loss: 0.3418 - val_accuracy: 0.8546\n",
            "Epoch 18/20\n",
            "782/782 [==============================] - 2s 2ms/step - loss: 0.2822 - accuracy: 0.8861 - val_loss: 0.3427 - val_accuracy: 0.8542\n",
            "Epoch 19/20\n",
            "782/782 [==============================] - 2s 2ms/step - loss: 0.2847 - accuracy: 0.8863 - val_loss: 0.3433 - val_accuracy: 0.8526\n",
            "Epoch 20/20\n",
            "782/782 [==============================] - 2s 2ms/step - loss: 0.2792 - accuracy: 0.8863 - val_loss: 0.3445 - val_accuracy: 0.8531\n"
          ],
          "name": "stdout"
        }
      ]
    },
    {
      "cell_type": "markdown",
      "metadata": {
        "id": "EPxiw8iCADr-"
      },
      "source": [
        "Let's plot the loss and the accuracy trends on both training and validation sets. We define the \"plot_learning_acc_and_loss\" function because we will reuse it in the next steps."
      ]
    },
    {
      "cell_type": "code",
      "metadata": {
        "id": "AJg-F7mUa7st",
        "colab": {
          "base_uri": "https://localhost:8080/",
          "height": 320
        },
        "outputId": "348a9b75-5950-4a88-e528-97aa942d9454"
      },
      "source": [
        "def plot_learning_acc_and_loss(history):\n",
        "    pd.DataFrame(history.history).plot(figsize=(8, 5))\n",
        "    plt.grid(True)\n",
        "    plt.show()\n",
        "plot_learning_acc_and_loss(history)"
      ],
      "execution_count": null,
      "outputs": [
        {
          "output_type": "display_data",
          "data": {
            "image/png": "[encoded data removed]",
            "text/plain": [
              "<Figure size 576x360 with 1 Axes>"
            ]
          },
          "metadata": {
            "tags": [],
            "needs_background": "light"
          }
        }
      ]
    },
    {
      "cell_type": "markdown",
      "metadata": {
        "id": "9O3-sLmxansJ"
      },
      "source": [
        "### Evaluate the model:\n",
        "\n",
        "Now, our model has been optimized on the training set, and as you can see the performance on the validation set in quite similar (so it does not overfit the training data). Let's now evaluate the performance of our model using the test set."
      ]
    },
    {
      "cell_type": "code",
      "metadata": {
        "id": "q-ZvJEcObdyB",
        "colab": {
          "base_uri": "https://localhost:8080/"
        },
        "outputId": "038d9cbe-8eb2-4d4c-ba29-5f6ed1bf2982"
      },
      "source": [
        "model.evaluate(X_test, y_test)"
      ],
      "execution_count": null,
      "outputs": [
        {
          "output_type": "stream",
          "text": [
            "391/391 [==============================] - 0s 1ms/step - loss: 0.3227 - accuracy: 0.8662\n"
          ],
          "name": "stdout"
        },
        {
          "output_type": "execute_result",
          "data": {
            "text/plain": [
              "[0.32265692949295044, 0.8662400245666504]"
            ]
          },
          "metadata": {
            "tags": []
          },
          "execution_count": 11
        }
      ]
    },
    {
      "cell_type": "markdown",
      "metadata": {
        "id": "KTSxlnwrII-n"
      },
      "source": [
        "[Question:] Explain why it is important to use test and validation, and why it is important to evaluate the model on the test set instead of the validation set. Finally, explain which is the usefulness of the validation set. Insert the discussion in this cell.\n",
        "\n",
        "[Answer:]\n",
        "you should separate your data into train, validation, and test splits to prevent your model from overfitting.\n",
        "The model might learn an overly specific function that performs well on your training data, but does not generalize well to new data.\n",
        "The validation set is a separate section of your dataset that you will use during training to get a sense of how well your model is doing on data which are not being used in training.\n",
        "But it is important to remember that the validation set metrics may have influenced you during the creation of the model, and in this sense you might, as a designer, overfit the new model to the validation set.\n",
        "Because the validation set is heavily used in model creation, it is important to use the test set so you can run evaluation metrics on it at the very end of your project, to get a sense of how well your model will do in production."
      ]
    },
    {
      "cell_type": "markdown",
      "metadata": {
        "id": "aeGlzKe864Gq"
      },
      "source": [
        "## Exercise 2.2: Overfiting\n",
        "\n",
        "A common problem that occurs when you train a deep neural network is overfittig. Overfitting occurs when you achieve a good fit of your model on the training data, while it does not generalize well on new, unseen data. In other words, the model learned patterns specific to the training data, which are irrelevant in other data.\n",
        "As we have seen in the previous exercise, our model does not overfit the training data. In this exercise, we try to modify the training parameters in order to have a model that overfits.\n",
        "Overfitting can have many causes and usually is a combination of some of them, for instance: too many parameters/ layers, too few training samples, wrong learning rate (usualy too high), etc..\n",
        "\n",
        "In the next cell define a new model (similar to the previuos one) that overfits the training data; then plot the trend of the loss in training and validation set."
      ]
    },
    {
      "cell_type": "code",
      "metadata": {
        "id": "T2B2DFEC8f88",
        "colab": {
          "base_uri": "https://localhost:8080/"
        },
        "outputId": "8b088710-5e2d-4527-e09e-cc43c5a3ba8c"
      },
      "source": [
        "#[TO COMPLETE] modify the previuos model in order to obtain a new mdel that overfit the training data\n",
        "model = keras.models.Sequential([\n",
        "    tf.keras.Input(shape=(num_words,)),\n",
        "    keras.layers.Dense(16, activation=\"relu\"),\n",
        "    keras.layers.Dense(32, activation=\"relu\"),\n",
        "    keras.layers.Dense(16, activation=\"relu\"),\n",
        "    keras.layers.Dense(1, activation=\"sigmoid\")\n",
        "])\n",
        "model.summary()\n",
        "\n",
        "model.compile(loss=\"binary_crossentropy\",\n",
        "              optimizer=keras.optimizers.Adam(learning_rate=1e-4),#[TO COMPLETE] learning rate\n",
        "              metrics=[\"accuracy\"])\n",
        "\n",
        "history = model.fit(X_train, y_train, epochs=30,#[TO COMPLETE] epochs\n",
        "                    validation_data=(X_valid, y_valid))\n",
        "\n",
        "print(\"Model Evaluation\")\n",
        "model.evaluate(X_test, y_test)"
      ],
      "execution_count": null,
      "outputs": [
        {
          "output_type": "stream",
          "text": [
            "Model: \"sequential_2\"\n",
            "_________________________________________________________________\n",
            "Layer (type)                 Output Shape              Param #   \n",
            "=================================================================\n",
            "dense_6 (Dense)              (None, 16)                16016     \n",
            "_________________________________________________________________\n",
            "dense_7 (Dense)              (None, 32)                544       \n",
            "_________________________________________________________________\n",
            "dense_8 (Dense)              (None, 16)                528       \n",
            "_________________________________________________________________\n",
            "dense_9 (Dense)              (None, 1)                 17        \n",
            "=================================================================\n",
            "Total params: 17,105\n",
            "Trainable params: 17,105\n",
            "Non-trainable params: 0\n",
            "_________________________________________________________________\n",
            "Epoch 1/30\n",
            "782/782 [==============================] - 2s 2ms/step - loss: 0.6596 - accuracy: 0.6054 - val_loss: 0.4455 - val_accuracy: 0.8094\n",
            "Epoch 2/30\n",
            "782/782 [==============================] - 2s 2ms/step - loss: 0.4014 - accuracy: 0.8275 - val_loss: 0.3610 - val_accuracy: 0.8456\n",
            "Epoch 3/30\n",
            "782/782 [==============================] - 2s 2ms/step - loss: 0.3267 - accuracy: 0.8642 - val_loss: 0.3472 - val_accuracy: 0.8514\n",
            "Epoch 4/30\n",
            "782/782 [==============================] - 2s 2ms/step - loss: 0.3128 - accuracy: 0.8702 - val_loss: 0.3426 - val_accuracy: 0.8534\n",
            "Epoch 5/30\n",
            "782/782 [==============================] - 2s 2ms/step - loss: 0.3025 - accuracy: 0.8768 - val_loss: 0.3409 - val_accuracy: 0.8538\n",
            "Epoch 6/30\n",
            "782/782 [==============================] - 2s 2ms/step - loss: 0.2938 - accuracy: 0.8779 - val_loss: 0.3383 - val_accuracy: 0.8555\n",
            "Epoch 7/30\n",
            "782/782 [==============================] - 2s 2ms/step - loss: 0.2888 - accuracy: 0.8812 - val_loss: 0.3405 - val_accuracy: 0.8542\n",
            "Epoch 8/30\n",
            "782/782 [==============================] - 2s 2ms/step - loss: 0.2925 - accuracy: 0.8800 - val_loss: 0.3395 - val_accuracy: 0.8545\n",
            "Epoch 9/30\n",
            "782/782 [==============================] - 2s 2ms/step - loss: 0.2862 - accuracy: 0.8826 - val_loss: 0.3405 - val_accuracy: 0.8542\n",
            "Epoch 10/30\n",
            "782/782 [==============================] - 2s 2ms/step - loss: 0.2802 - accuracy: 0.8837 - val_loss: 0.3410 - val_accuracy: 0.8542\n",
            "Epoch 11/30\n",
            "782/782 [==============================] - 2s 2ms/step - loss: 0.2815 - accuracy: 0.8853 - val_loss: 0.3432 - val_accuracy: 0.8537\n",
            "Epoch 12/30\n",
            "782/782 [==============================] - 2s 2ms/step - loss: 0.2719 - accuracy: 0.8899 - val_loss: 0.3425 - val_accuracy: 0.8528\n",
            "Epoch 13/30\n",
            "782/782 [==============================] - 2s 2ms/step - loss: 0.2795 - accuracy: 0.8842 - val_loss: 0.3453 - val_accuracy: 0.8530\n",
            "Epoch 14/30\n",
            "782/782 [==============================] - 2s 2ms/step - loss: 0.2687 - accuracy: 0.8914 - val_loss: 0.3440 - val_accuracy: 0.8532\n",
            "Epoch 15/30\n",
            "782/782 [==============================] - 2s 2ms/step - loss: 0.2674 - accuracy: 0.8902 - val_loss: 0.3456 - val_accuracy: 0.8528\n",
            "Epoch 16/30\n",
            "782/782 [==============================] - 2s 2ms/step - loss: 0.2669 - accuracy: 0.8884 - val_loss: 0.3474 - val_accuracy: 0.8519\n",
            "Epoch 17/30\n",
            "782/782 [==============================] - 2s 2ms/step - loss: 0.2630 - accuracy: 0.8920 - val_loss: 0.3486 - val_accuracy: 0.8503\n",
            "Epoch 18/30\n",
            "782/782 [==============================] - 2s 2ms/step - loss: 0.2571 - accuracy: 0.8938 - val_loss: 0.3504 - val_accuracy: 0.8491\n",
            "Epoch 19/30\n",
            "782/782 [==============================] - 2s 2ms/step - loss: 0.2578 - accuracy: 0.8957 - val_loss: 0.3502 - val_accuracy: 0.8511\n",
            "Epoch 20/30\n",
            "782/782 [==============================] - 2s 2ms/step - loss: 0.2496 - accuracy: 0.8988 - val_loss: 0.3539 - val_accuracy: 0.8495\n",
            "Epoch 21/30\n",
            "782/782 [==============================] - 2s 2ms/step - loss: 0.2522 - accuracy: 0.8987 - val_loss: 0.3569 - val_accuracy: 0.8503\n",
            "Epoch 22/30\n",
            "782/782 [==============================] - 2s 2ms/step - loss: 0.2436 - accuracy: 0.9000 - val_loss: 0.3587 - val_accuracy: 0.8482\n",
            "Epoch 23/30\n",
            "782/782 [==============================] - 2s 2ms/step - loss: 0.2355 - accuracy: 0.9045 - val_loss: 0.3620 - val_accuracy: 0.8481\n",
            "Epoch 24/30\n",
            "782/782 [==============================] - 2s 2ms/step - loss: 0.2328 - accuracy: 0.9058 - val_loss: 0.3633 - val_accuracy: 0.8474\n",
            "Epoch 25/30\n",
            "782/782 [==============================] - 2s 2ms/step - loss: 0.2303 - accuracy: 0.9064 - val_loss: 0.3698 - val_accuracy: 0.8470\n",
            "Epoch 26/30\n",
            "782/782 [==============================] - 2s 2ms/step - loss: 0.2314 - accuracy: 0.9082 - val_loss: 0.3719 - val_accuracy: 0.8432\n",
            "Epoch 27/30\n",
            "782/782 [==============================] - 2s 2ms/step - loss: 0.2235 - accuracy: 0.9099 - val_loss: 0.3752 - val_accuracy: 0.8447\n",
            "Epoch 28/30\n",
            "782/782 [==============================] - 2s 2ms/step - loss: 0.2148 - accuracy: 0.9137 - val_loss: 0.3786 - val_accuracy: 0.8430\n",
            "Epoch 29/30\n",
            "782/782 [==============================] - 2s 2ms/step - loss: 0.2127 - accuracy: 0.9140 - val_loss: 0.3815 - val_accuracy: 0.8426\n",
            "Epoch 30/30\n",
            "782/782 [==============================] - 2s 2ms/step - loss: 0.2101 - accuracy: 0.9179 - val_loss: 0.3898 - val_accuracy: 0.8420\n",
            "Model Evaluation\n",
            "391/391 [==============================] - 0s 1ms/step - loss: 0.3626 - accuracy: 0.8551\n"
          ],
          "name": "stdout"
        },
        {
          "output_type": "execute_result",
          "data": {
            "text/plain": [
              "[0.362647145986557, 0.8551200032234192]"
            ]
          },
          "metadata": {
            "tags": []
          },
          "execution_count": 12
        }
      ]
    },
    {
      "cell_type": "markdown",
      "metadata": {
        "id": "MS0fujEqh_m3"
      },
      "source": [
        "Define the plot_learning_curves function that plots inly the losses (not the accuracy)."
      ]
    },
    {
      "cell_type": "code",
      "metadata": {
        "id": "q5EsklC0DZYH",
        "colab": {
          "base_uri": "https://localhost:8080/",
          "height": 336
        },
        "outputId": "01a8b726-16af-48a1-9644-66fcba69f102"
      },
      "source": [
        "def plot_learning_curves(history):\n",
        "    plt.figure(figsize=(8, 5))\n",
        "    plt.plot(history.epoch,history.history['loss'], label='train loss')\n",
        "    plt.plot(history.epoch,history.history['val_loss'], label='valid loss')\n",
        "    plt.legend()\n",
        "    plt.title('loss')\n",
        "    plt.grid(True)\n",
        "    plt.show()\n",
        "plot_learning_curves(history)"
      ],
      "execution_count": null,
      "outputs": [
        {
          "output_type": "display_data",
          "data": {
            "image/png": "[encoded data removed]",
            "text/plain": [
              "<Figure size 576x360 with 1 Axes>"
            ]
          },
          "metadata": {
            "tags": [],
            "needs_background": "light"
          }
        }
      ]
    },
    {
      "cell_type": "markdown",
      "metadata": {
        "id": "OW4Kf4fgDfOs"
      },
      "source": [
        "### L1 norm\n",
        "\n",
        "One possible way to solve the overitting issue is by using regularization methods. The two most common regularization methods in Deep Learning are the L1-norm regularization and the L2-norm regularization. Both These techniques are based on limiting the capacity of models, by adding a parameter norm penalty to the objective function $\\mathcal{J}$:\n",
        "$$\n",
        "\\hat{\\mathcal{J}}(\\theta,\\mathbf{X},\\mathbf{y}) = \\mathcal{J}(\\theta,\\mathbf{X},\\mathbf{y}) + \\alpha \\Omega(\\theta)\n",
        "$$\n",
        "where $\\alpha$ is a hyperparameter that weighs the relative contribution of the norm penalty $\\Omega$.\n",
        "Lets start by considering the L1-norm regularization where the regularization term is defined as:\n",
        "$$\n",
        " \\Omega(\\theta)=||\\mathbf{W}||_1=\\sum_i |\\mathbf{w}|\n",
        "$$\n",
        "Let's find the values for the $\\alpha$ parameters that allow to remove the overfitting effect."
      ]
    },
    {
      "cell_type": "code",
      "metadata": {
        "id": "QzD8520dDgw3",
        "colab": {
          "base_uri": "https://localhost:8080/",
          "height": 1000
        },
        "outputId": "7dad60e5-0284-4413-b285-4369ba022862"
      },
      "source": [
        "#In Keras is neccesary to add the regularizer by using the attribute kernel_regularizer\n",
        "#to each layer whose weights will be considered in the Omega function.\n",
        "#is it also possibile to consider the bias by using the attribute bias_regularizer \n",
        "#tf.keras.regularizers.l1(alpha) perfroms the L1-norm regularization\n",
        "\n",
        "#copy the model that you previously defined that overfits the \n",
        "#trainnig data, and add the L1-norm regularization. Use a proper value for the\n",
        "#alpha hyper-parameter, that prevents the model from overfitting. The results  \n",
        "#reached by the model in terms of loss and accuracy (in all data sets) should be\n",
        "#comparable with the ones obtained by the initial model defined in Exercise 2.1 \n",
        "\n",
        "#In general, a layer that exploits L1-norm regularization is defined as follows:\n",
        "\n",
        "#model.add(keras.layers.Dense(units=[TO COMPLETE], activation=[TO COMPLETE], kernel_regularizer=tf.keras.regularizers.l1([TO COMPLETE]))) \n",
        "\n",
        "model = keras.models.Sequential()\n",
        "\n",
        "model.add(tf.keras.Input(shape=(num_words,)))\n",
        "model.add(keras.layers.Dense(units=16, activation=\"relu\", kernel_regularizer=tf.keras.regularizers.l1(2e-4)))\n",
        "model.add(keras.layers.Dense(units=32, activation=\"relu\", kernel_regularizer=tf.keras.regularizers.l1(2e-4)))\n",
        "model.add(keras.layers.Dense(units=16, activation=\"relu\", kernel_regularizer=tf.keras.regularizers.l1(2e-4)))\n",
        "model.add(keras.layers.Dense(1, activation=\"sigmoid\"))\n",
        "\n",
        "\n",
        "model.compile(loss=\"binary_crossentropy\",\n",
        "              optimizer=keras.optimizers.Adam(learning_rate=1e-4),#[TO COMPLETE] learning rate\n",
        "              metrics=[\"accuracy\"])\n",
        "\n",
        "history = model.fit(X_train, y_train, epochs=30,#[TO COMPLETE] epochs\n",
        "                    validation_data=(X_valid, y_valid))\n",
        "\n",
        "print(\"Model Evaluation\")\n",
        "model.evaluate(X_test, y_test)\n",
        "plot_learning_curves(history)"
      ],
      "execution_count": null,
      "outputs": [
        {
          "output_type": "stream",
          "text": [
            "Epoch 1/30\n",
            "782/782 [==============================] - 2s 2ms/step - loss: 0.9466 - accuracy: 0.5811 - val_loss: 0.6551 - val_accuracy: 0.8195\n",
            "Epoch 2/30\n",
            "782/782 [==============================] - 2s 2ms/step - loss: 0.6103 - accuracy: 0.8382 - val_loss: 0.5557 - val_accuracy: 0.8480\n",
            "Epoch 3/30\n",
            "782/782 [==============================] - 2s 2ms/step - loss: 0.5207 - accuracy: 0.8648 - val_loss: 0.5250 - val_accuracy: 0.8537\n",
            "Epoch 4/30\n",
            "782/782 [==============================] - 2s 2ms/step - loss: 0.4935 - accuracy: 0.8682 - val_loss: 0.5076 - val_accuracy: 0.8566\n",
            "Epoch 5/30\n",
            "782/782 [==============================] - 2s 2ms/step - loss: 0.4723 - accuracy: 0.8725 - val_loss: 0.4920 - val_accuracy: 0.8571\n",
            "Epoch 6/30\n",
            "782/782 [==============================] - 2s 2ms/step - loss: 0.4551 - accuracy: 0.8750 - val_loss: 0.4812 - val_accuracy: 0.8569\n",
            "Epoch 7/30\n",
            "782/782 [==============================] - 2s 2ms/step - loss: 0.4435 - accuracy: 0.8774 - val_loss: 0.4765 - val_accuracy: 0.8567\n",
            "Epoch 8/30\n",
            "782/782 [==============================] - 2s 2ms/step - loss: 0.4413 - accuracy: 0.8745 - val_loss: 0.4669 - val_accuracy: 0.8560\n",
            "Epoch 9/30\n",
            "782/782 [==============================] - 2s 2ms/step - loss: 0.4311 - accuracy: 0.8768 - val_loss: 0.4625 - val_accuracy: 0.8562\n",
            "Epoch 10/30\n",
            "782/782 [==============================] - 2s 2ms/step - loss: 0.4229 - accuracy: 0.8753 - val_loss: 0.4570 - val_accuracy: 0.8566\n",
            "Epoch 11/30\n",
            "782/782 [==============================] - 2s 2ms/step - loss: 0.4223 - accuracy: 0.8769 - val_loss: 0.4540 - val_accuracy: 0.8548\n",
            "Epoch 12/30\n",
            "782/782 [==============================] - 2s 2ms/step - loss: 0.4101 - accuracy: 0.8796 - val_loss: 0.4484 - val_accuracy: 0.8553\n",
            "Epoch 13/30\n",
            "782/782 [==============================] - 2s 2ms/step - loss: 0.4158 - accuracy: 0.8745 - val_loss: 0.4458 - val_accuracy: 0.8555\n",
            "Epoch 14/30\n",
            "782/782 [==============================] - 2s 2ms/step - loss: 0.4038 - accuracy: 0.8779 - val_loss: 0.4414 - val_accuracy: 0.8534\n",
            "Epoch 15/30\n",
            "782/782 [==============================] - 2s 2ms/step - loss: 0.4049 - accuracy: 0.8770 - val_loss: 0.4383 - val_accuracy: 0.8541\n",
            "Epoch 16/30\n",
            "782/782 [==============================] - 2s 2ms/step - loss: 0.4016 - accuracy: 0.8730 - val_loss: 0.4363 - val_accuracy: 0.8540\n",
            "Epoch 17/30\n",
            "782/782 [==============================] - 2s 2ms/step - loss: 0.4003 - accuracy: 0.8748 - val_loss: 0.4358 - val_accuracy: 0.8544\n",
            "Epoch 18/30\n",
            "782/782 [==============================] - 2s 2ms/step - loss: 0.3953 - accuracy: 0.8767 - val_loss: 0.4335 - val_accuracy: 0.8537\n",
            "Epoch 19/30\n",
            "782/782 [==============================] - 2s 2ms/step - loss: 0.3968 - accuracy: 0.8771 - val_loss: 0.4290 - val_accuracy: 0.8544\n",
            "Epoch 20/30\n",
            "782/782 [==============================] - 2s 2ms/step - loss: 0.3904 - accuracy: 0.8768 - val_loss: 0.4292 - val_accuracy: 0.8538\n",
            "Epoch 21/30\n",
            "782/782 [==============================] - 2s 2ms/step - loss: 0.3915 - accuracy: 0.8780 - val_loss: 0.4258 - val_accuracy: 0.8541\n",
            "Epoch 22/30\n",
            "782/782 [==============================] - 2s 2ms/step - loss: 0.3877 - accuracy: 0.8744 - val_loss: 0.4246 - val_accuracy: 0.8547\n",
            "Epoch 23/30\n",
            "782/782 [==============================] - 2s 2ms/step - loss: 0.3804 - accuracy: 0.8797 - val_loss: 0.4252 - val_accuracy: 0.8527\n",
            "Epoch 24/30\n",
            "782/782 [==============================] - 2s 2ms/step - loss: 0.3804 - accuracy: 0.8772 - val_loss: 0.4217 - val_accuracy: 0.8540\n",
            "Epoch 25/30\n",
            "782/782 [==============================] - 2s 2ms/step - loss: 0.3761 - accuracy: 0.8786 - val_loss: 0.4213 - val_accuracy: 0.8524\n",
            "Epoch 26/30\n",
            "782/782 [==============================] - 2s 2ms/step - loss: 0.3804 - accuracy: 0.8785 - val_loss: 0.4250 - val_accuracy: 0.8506\n",
            "Epoch 27/30\n",
            "782/782 [==============================] - 2s 2ms/step - loss: 0.3772 - accuracy: 0.8729 - val_loss: 0.4163 - val_accuracy: 0.8528\n",
            "Epoch 28/30\n",
            "782/782 [==============================] - 2s 2ms/step - loss: 0.3693 - accuracy: 0.8794 - val_loss: 0.4156 - val_accuracy: 0.8526\n",
            "Epoch 29/30\n",
            "782/782 [==============================] - 2s 2ms/step - loss: 0.3696 - accuracy: 0.8803 - val_loss: 0.4138 - val_accuracy: 0.8526\n",
            "Epoch 30/30\n",
            "782/782 [==============================] - 2s 2ms/step - loss: 0.3697 - accuracy: 0.8808 - val_loss: 0.4149 - val_accuracy: 0.8529\n",
            "Model Evaluation\n",
            "391/391 [==============================] - 0s 1ms/step - loss: 0.3952 - accuracy: 0.8654\n"
          ],
          "name": "stdout"
        },
        {
          "output_type": "display_data",
          "data": {
            "image/png": "[encoded data removed]",
            "text/plain": [
              "<Figure size 576x360 with 1 Axes>"
            ]
          },
          "metadata": {
            "tags": [],
            "needs_background": "light"
          }
        }
      ]
    },
    {
      "cell_type": "markdown",
      "metadata": {
        "id": "CgnCGYUvDqbC"
      },
      "source": [
        "### L2-norm\n",
        "\n",
        "L2-norm regularization is also known as weight decay. This strategy drives the weights closer to the origin by adding the regularization term omega which is defined as:\n",
        "$$\n",
        " \\Omega(\\theta)=\\frac{1}{2}||\\mathbf{W}||_2^2\n",
        "$$\n",
        "\n",
        "Let's find the values for the $\\alpha$ parameters that allow removing remove the overfitting effect with L2-norm."
      ]
    },
    {
      "cell_type": "code",
      "metadata": {
        "id": "qqNhu350DtJo",
        "colab": {
          "base_uri": "https://localhost:8080/",
          "height": 1000
        },
        "outputId": "9773af00-9040-4be7-910b-9ae085e71288"
      },
      "source": [
        "#insert the model that you previously defined that overfit the \n",
        "#trainig data, and add the L2-norm regularization. Use proper values for the\n",
        "#alpha hyper-parameters, that prevents the model from overfitting. The results  \n",
        "#reached by the model in terms of loss and accuracy (in all data sets) should be\n",
        "#comparable with the ones obtained by the initial model defined in Exercise 2.1\n",
        "\n",
        "#In general, a layer that exploits L2-norm regularization is defined as follow:\n",
        "\n",
        "\n",
        "model = keras.models.Sequential()\n",
        "\n",
        "model.add(tf.keras.Input(shape=(num_words,)))\n",
        "model.add(keras.layers.Dense(units=16, activation=\"relu\", kernel_regularizer=tf.keras.regularizers.l2(4e-3)))\n",
        "model.add(keras.layers.Dense(units=32, activation=\"relu\", kernel_regularizer=tf.keras.regularizers.l2(4e-3)))\n",
        "model.add(keras.layers.Dense(units=16, activation=\"relu\", kernel_regularizer=tf.keras.regularizers.l2(4e-3)))\n",
        "model.add(keras.layers.Dense(1, activation=\"sigmoid\"))\n",
        "\n",
        "model.compile(loss=\"binary_crossentropy\",\n",
        "              optimizer=keras.optimizers.Adam(learning_rate=1e-4),\n",
        "              metrics=[\"accuracy\"])\n",
        "\n",
        "history = model.fit(X_train, y_train, epochs=30,\n",
        "                    validation_data=(X_valid, y_valid))\n",
        "\n",
        "print(\"Model Evaluation\")\n",
        "model.evaluate(X_test, y_test)\n",
        "plot_learning_curves(history)"
      ],
      "execution_count": null,
      "outputs": [
        {
          "output_type": "stream",
          "text": [
            "Epoch 1/30\n",
            "782/782 [==============================] - 2s 2ms/step - loss: 0.9282 - accuracy: 0.5844 - val_loss: 0.6533 - val_accuracy: 0.8098\n",
            "Epoch 2/30\n",
            "782/782 [==============================] - 2s 2ms/step - loss: 0.5937 - accuracy: 0.8281 - val_loss: 0.5084 - val_accuracy: 0.8487\n",
            "Epoch 3/30\n",
            "782/782 [==============================] - 2s 2ms/step - loss: 0.4732 - accuracy: 0.8658 - val_loss: 0.4716 - val_accuracy: 0.8546\n",
            "Epoch 4/30\n",
            "782/782 [==============================] - 2s 2ms/step - loss: 0.4422 - accuracy: 0.8681 - val_loss: 0.4536 - val_accuracy: 0.8556\n",
            "Epoch 5/30\n",
            "782/782 [==============================] - 2s 2ms/step - loss: 0.4216 - accuracy: 0.8749 - val_loss: 0.4415 - val_accuracy: 0.8581\n",
            "Epoch 6/30\n",
            "782/782 [==============================] - 2s 2ms/step - loss: 0.4067 - accuracy: 0.8731 - val_loss: 0.4329 - val_accuracy: 0.8566\n",
            "Epoch 7/30\n",
            "782/782 [==============================] - 2s 2ms/step - loss: 0.3959 - accuracy: 0.8787 - val_loss: 0.4302 - val_accuracy: 0.8570\n",
            "Epoch 8/30\n",
            "782/782 [==============================] - 2s 2ms/step - loss: 0.3969 - accuracy: 0.8753 - val_loss: 0.4238 - val_accuracy: 0.8557\n",
            "Epoch 9/30\n",
            "782/782 [==============================] - 2s 2ms/step - loss: 0.3879 - accuracy: 0.8768 - val_loss: 0.4210 - val_accuracy: 0.8561\n",
            "Epoch 10/30\n",
            "782/782 [==============================] - 2s 2ms/step - loss: 0.3821 - accuracy: 0.8758 - val_loss: 0.4169 - val_accuracy: 0.8563\n",
            "Epoch 11/30\n",
            "782/782 [==============================] - 2s 2ms/step - loss: 0.3824 - accuracy: 0.8775 - val_loss: 0.4151 - val_accuracy: 0.8554\n",
            "Epoch 12/30\n",
            "782/782 [==============================] - 2s 2ms/step - loss: 0.3716 - accuracy: 0.8816 - val_loss: 0.4114 - val_accuracy: 0.8566\n",
            "Epoch 13/30\n",
            "782/782 [==============================] - 2s 2ms/step - loss: 0.3773 - accuracy: 0.8755 - val_loss: 0.4101 - val_accuracy: 0.8570\n",
            "Epoch 14/30\n",
            "782/782 [==============================] - 2s 2ms/step - loss: 0.3666 - accuracy: 0.8803 - val_loss: 0.4068 - val_accuracy: 0.8561\n",
            "Epoch 15/30\n",
            "782/782 [==============================] - 2s 2ms/step - loss: 0.3672 - accuracy: 0.8791 - val_loss: 0.4047 - val_accuracy: 0.8556\n",
            "Epoch 16/30\n",
            "782/782 [==============================] - 2s 2ms/step - loss: 0.3656 - accuracy: 0.8768 - val_loss: 0.4029 - val_accuracy: 0.8555\n",
            "Epoch 17/30\n",
            "782/782 [==============================] - 2s 2ms/step - loss: 0.3642 - accuracy: 0.8776 - val_loss: 0.4035 - val_accuracy: 0.8556\n",
            "Epoch 18/30\n",
            "782/782 [==============================] - 2s 2ms/step - loss: 0.3589 - accuracy: 0.8798 - val_loss: 0.4020 - val_accuracy: 0.8546\n",
            "Epoch 19/30\n",
            "782/782 [==============================] - 2s 2ms/step - loss: 0.3610 - accuracy: 0.8808 - val_loss: 0.3976 - val_accuracy: 0.8573\n",
            "Epoch 20/30\n",
            "782/782 [==============================] - 2s 2ms/step - loss: 0.3539 - accuracy: 0.8807 - val_loss: 0.3979 - val_accuracy: 0.8554\n",
            "Epoch 21/30\n",
            "782/782 [==============================] - 2s 2ms/step - loss: 0.3566 - accuracy: 0.8808 - val_loss: 0.3955 - val_accuracy: 0.8559\n",
            "Epoch 22/30\n",
            "782/782 [==============================] - 2s 2ms/step - loss: 0.3513 - accuracy: 0.8802 - val_loss: 0.3945 - val_accuracy: 0.8573\n",
            "Epoch 23/30\n",
            "782/782 [==============================] - 2s 2ms/step - loss: 0.3438 - accuracy: 0.8865 - val_loss: 0.3963 - val_accuracy: 0.8539\n",
            "Epoch 24/30\n",
            "782/782 [==============================] - 2s 2ms/step - loss: 0.3432 - accuracy: 0.8853 - val_loss: 0.3934 - val_accuracy: 0.8574\n",
            "Epoch 25/30\n",
            "782/782 [==============================] - 2s 2ms/step - loss: 0.3400 - accuracy: 0.8851 - val_loss: 0.3936 - val_accuracy: 0.8550\n",
            "Epoch 26/30\n",
            "782/782 [==============================] - 2s 2ms/step - loss: 0.3434 - accuracy: 0.8860 - val_loss: 0.3968 - val_accuracy: 0.8523\n",
            "Epoch 27/30\n",
            "782/782 [==============================] - 2s 2ms/step - loss: 0.3390 - accuracy: 0.8818 - val_loss: 0.3909 - val_accuracy: 0.8570\n",
            "Epoch 28/30\n",
            "782/782 [==============================] - 2s 2ms/step - loss: 0.3323 - accuracy: 0.8880 - val_loss: 0.3909 - val_accuracy: 0.8554\n",
            "Epoch 29/30\n",
            "782/782 [==============================] - 2s 2ms/step - loss: 0.3307 - accuracy: 0.8880 - val_loss: 0.3907 - val_accuracy: 0.8566\n",
            "Epoch 30/30\n",
            "782/782 [==============================] - 2s 2ms/step - loss: 0.3310 - accuracy: 0.8890 - val_loss: 0.3920 - val_accuracy: 0.8546\n",
            "Model Evaluation\n",
            "391/391 [==============================] - 0s 1ms/step - loss: 0.3744 - accuracy: 0.8658\n"
          ],
          "name": "stdout"
        },
        {
          "output_type": "display_data",
          "data": {
            "image/png": "[encoded data removed]",
            "text/plain": [
              "<Figure size 576x360 with 1 Axes>"
            ]
          },
          "metadata": {
            "tags": [],
            "needs_background": "light"
          }
        }
      ]
    },
    {
      "cell_type": "markdown",
      "metadata": {
        "id": "xvyKPb4DD25G"
      },
      "source": [
        "### Early stopping\n",
        "\n",
        "Early Stopping is a form of regularization used to avoid overfitting. It is designed to monitor the generalization error of one model and stop training when generalization error begins to degrade. In order to evaluate the generalization error, early stopping requires that a validation dataset is evaluated during training. Then, when the validation error does not improve for a specific number of epochs (patience hyper-parameter), it stops the training phase."
      ]
    },
    {
      "cell_type": "code",
      "metadata": {
        "id": "MqNOOZ11D7cq",
        "colab": {
          "base_uri": "https://localhost:8080/",
          "height": 706
        },
        "outputId": "31db8e9e-1706-4915-a825-fb42e1418fec"
      },
      "source": [
        "#insert the model that you previously defined that overfit the trainnig data\n",
        "model = keras.models.Sequential([\n",
        "    tf.keras.Input(shape=(num_words,)),\n",
        "    keras.layers.Dense(16, activation=\"relu\"),\n",
        "    keras.layers.Dense(32, activation=\"relu\"),\n",
        "    keras.layers.Dense(16, activation=\"relu\"),\n",
        "    keras.layers.Dense(1, activation=\"sigmoid\")\n",
        "])\n",
        "\n",
        "model.compile(loss=\"binary_crossentropy\",\n",
        "              optimizer=keras.optimizers.Adam(learning_rate=1e-4),\n",
        "\n",
        "              metrics=[\"accuracy\"])\n",
        "\n",
        "#Let's define a log dir in order to save the checkpoint file\n",
        "logdir = os.path.join(os.curdir, \"my_logs\", \"run_{}\".format(time.time()))\n",
        "\n",
        "#In Keras the Eraly stopping is manage by using the callbacks argument.\n",
        "callbacks = [\n",
        "    keras.callbacks.TensorBoard(logdir),\n",
        "    keras.callbacks.EarlyStopping(patience=4),#play with patience and find the value that prevents the model from overfitting.\n",
        "\n",
        "\n",
        "    #Saving the checkpoints file allows to load the \"best\" model when the Early \n",
        "    #stopping detect that the generalization error degrade (after 'patience' epochs)\n",
        "    keras.callbacks.ModelCheckpoint(\"my_mnist_model.h5\", save_best_only=True),\n",
        "]\n",
        "\n",
        "history = model.fit(X_train, y_train, epochs=30,# epochs\n",
        "                    validation_data=(X_valid, y_valid),\n",
        "                    callbacks=callbacks)\n",
        "\n",
        "print(\"Model Evaluation\")\n",
        "#The early stopping stopped training after few epochs without progress, so your\n",
        "#model may already have started to overfit the training set. Since the \n",
        "#ModelCheckpoint callback only saved the best models (on the validation set) the\n",
        "#last saved model is the best on the validation set.\n",
        "model = keras.models.load_model(\"my_mnist_model.h5\")\n",
        "model.evaluate(X_test, y_test)\n",
        "plot_learning_curves(history)"
      ],
      "execution_count": null,
      "outputs": [
        {
          "output_type": "stream",
          "text": [
            "Epoch 1/30\n",
            "782/782 [==============================] - 2s 2ms/step - loss: 0.6510 - accuracy: 0.6047 - val_loss: 0.4382 - val_accuracy: 0.8066\n",
            "Epoch 2/30\n",
            "782/782 [==============================] - 2s 2ms/step - loss: 0.4015 - accuracy: 0.8221 - val_loss: 0.3621 - val_accuracy: 0.8465\n",
            "Epoch 3/30\n",
            "782/782 [==============================] - 2s 2ms/step - loss: 0.3292 - accuracy: 0.8619 - val_loss: 0.3469 - val_accuracy: 0.8519\n",
            "Epoch 4/30\n",
            "782/782 [==============================] - 2s 2ms/step - loss: 0.3144 - accuracy: 0.8690 - val_loss: 0.3414 - val_accuracy: 0.8552\n",
            "Epoch 5/30\n",
            "782/782 [==============================] - 2s 2ms/step - loss: 0.3054 - accuracy: 0.8742 - val_loss: 0.3395 - val_accuracy: 0.8551\n",
            "Epoch 6/30\n",
            "782/782 [==============================] - 2s 2ms/step - loss: 0.2963 - accuracy: 0.8789 - val_loss: 0.3381 - val_accuracy: 0.8552\n",
            "Epoch 7/30\n",
            "782/782 [==============================] - 2s 2ms/step - loss: 0.2893 - accuracy: 0.8811 - val_loss: 0.3420 - val_accuracy: 0.8547\n",
            "Epoch 8/30\n",
            "782/782 [==============================] - 2s 2ms/step - loss: 0.2932 - accuracy: 0.8799 - val_loss: 0.3402 - val_accuracy: 0.8529\n",
            "Epoch 9/30\n",
            "782/782 [==============================] - 2s 2ms/step - loss: 0.2858 - accuracy: 0.8833 - val_loss: 0.3432 - val_accuracy: 0.8539\n",
            "Epoch 10/30\n",
            "782/782 [==============================] - 2s 2ms/step - loss: 0.2796 - accuracy: 0.8831 - val_loss: 0.3433 - val_accuracy: 0.8515\n",
            "Model Evaluation\n",
            "391/391 [==============================] - 1s 1ms/step - loss: 0.3183 - accuracy: 0.8650\n"
          ],
          "name": "stdout"
        },
        {
          "output_type": "display_data",
          "data": {
            "image/png": "[encoded data removed]",
            "text/plain": [
              "<Figure size 576x360 with 1 Axes>"
            ]
          },
          "metadata": {
            "tags": [],
            "needs_background": "light"
          }
        }
      ]
    },
    {
      "cell_type": "markdown",
      "metadata": {
        "id": "DCV8pwVzl9GK"
      },
      "source": [
        "## Exercise 2.3: Model Selection\n",
        "\n",
        "Hyperparameters are the parameters of the learning method itself which we have to specify a priori, i.e., before model fitting. In contrast, model parameters are parameters which arise as a result of the fit (the network weights). The aim of model selection is selecting the best hyperparameters for our deep network. Finding the right hyperparameters for a model can be crucial for the model performance on given data. For istance lets consider our model trained by using different values for the learning rate: "
      ]
    },
    {
      "cell_type": "code",
      "metadata": {
        "id": "Fw8Hs-AEmLKh"
      },
      "source": [
        "learning_rates = [1e-4, 1e-2, 1e-1]"
      ],
      "execution_count": null,
      "outputs": []
    },
    {
      "cell_type": "code",
      "metadata": {
        "id": "mym4GOgUmWqD",
        "colab": {
          "base_uri": "https://localhost:8080/"
        },
        "outputId": "691e63e9-2609-489d-e3f1-41fe42c1124b"
      },
      "source": [
        "histories = []\n",
        "for learning_rate in learning_rates:\n",
        "    model = keras.models.Sequential([\n",
        "                                    tf.keras.Input(shape=(num_words,)),\n",
        "                                    keras.layers.Dense(16, activation=\"relu\"),\n",
        "                                    keras.layers.Dense(16, activation=\"relu\"),\n",
        "                                    keras.layers.Dense(1, activation=\"sigmoid\")\n",
        "                                     ])\n",
        "    model.compile(loss=\"binary_crossentropy\",\n",
        "              optimizer=keras.optimizers.Adam(learning_rate=learning_rate),\n",
        "              metrics=[\"accuracy\"])\n",
        "              \n",
        "    callbacks = [keras.callbacks.EarlyStopping(patience=2)]\n",
        "\n",
        "    history = model.fit(X_train, y_train,\n",
        "                        validation_data=(X_valid, y_valid), epochs=10,\n",
        "                        callbacks=callbacks)\n",
        "    histories.append(history)\n",
        "    print(\"evaluation on test set\")\n",
        "    model.evaluate(X_test, y_test)"
      ],
      "execution_count": null,
      "outputs": [
        {
          "output_type": "stream",
          "text": [
            "Epoch 1/10\n",
            "782/782 [==============================] - 2s 2ms/step - loss: 0.6702 - accuracy: 0.5747 - val_loss: 0.5192 - val_accuracy: 0.7853\n",
            "Epoch 2/10\n",
            "782/782 [==============================] - 2s 2ms/step - loss: 0.4727 - accuracy: 0.8090 - val_loss: 0.3974 - val_accuracy: 0.8367\n",
            "Epoch 3/10\n",
            "782/782 [==============================] - 2s 2ms/step - loss: 0.3656 - accuracy: 0.8534 - val_loss: 0.3607 - val_accuracy: 0.8478\n",
            "Epoch 4/10\n",
            "782/782 [==============================] - 2s 2ms/step - loss: 0.3355 - accuracy: 0.8608 - val_loss: 0.3454 - val_accuracy: 0.8537\n",
            "Epoch 5/10\n",
            "782/782 [==============================] - 2s 2ms/step - loss: 0.3191 - accuracy: 0.8679 - val_loss: 0.3404 - val_accuracy: 0.8567\n",
            "Epoch 6/10\n",
            "782/782 [==============================] - 2s 2ms/step - loss: 0.3073 - accuracy: 0.8740 - val_loss: 0.3361 - val_accuracy: 0.8572\n",
            "Epoch 7/10\n",
            "782/782 [==============================] - 2s 2ms/step - loss: 0.2990 - accuracy: 0.8787 - val_loss: 0.3355 - val_accuracy: 0.8569\n",
            "Epoch 8/10\n",
            "782/782 [==============================] - 2s 2ms/step - loss: 0.3027 - accuracy: 0.8750 - val_loss: 0.3353 - val_accuracy: 0.8564\n",
            "Epoch 9/10\n",
            "782/782 [==============================] - 2s 2ms/step - loss: 0.2957 - accuracy: 0.8783 - val_loss: 0.3360 - val_accuracy: 0.8565\n",
            "Epoch 10/10\n",
            "782/782 [==============================] - 2s 2ms/step - loss: 0.2905 - accuracy: 0.8806 - val_loss: 0.3365 - val_accuracy: 0.8550\n",
            "evaluation on test set\n",
            "391/391 [==============================] - 0s 1ms/step - loss: 0.3182 - accuracy: 0.8662\n",
            "Epoch 1/10\n",
            "782/782 [==============================] - 2s 2ms/step - loss: 0.4182 - accuracy: 0.8055 - val_loss: 0.3329 - val_accuracy: 0.8520\n",
            "Epoch 2/10\n",
            "782/782 [==============================] - 2s 2ms/step - loss: 0.3187 - accuracy: 0.8602 - val_loss: 0.3382 - val_accuracy: 0.8527\n",
            "Epoch 3/10\n",
            "782/782 [==============================] - 2s 2ms/step - loss: 0.2870 - accuracy: 0.8768 - val_loss: 0.3408 - val_accuracy: 0.8516\n",
            "evaluation on test set\n",
            "391/391 [==============================] - 0s 1ms/step - loss: 0.3217 - accuracy: 0.8637\n",
            "Epoch 1/10\n",
            "782/782 [==============================] - 2s 2ms/step - loss: 0.5192 - accuracy: 0.7684 - val_loss: 0.3951 - val_accuracy: 0.8210\n",
            "Epoch 2/10\n",
            "782/782 [==============================] - 2s 2ms/step - loss: 0.3959 - accuracy: 0.8319 - val_loss: 0.3991 - val_accuracy: 0.8228\n",
            "Epoch 3/10\n",
            "782/782 [==============================] - 2s 2ms/step - loss: 0.3906 - accuracy: 0.8389 - val_loss: 0.3869 - val_accuracy: 0.8303\n",
            "Epoch 4/10\n",
            "782/782 [==============================] - 2s 2ms/step - loss: 0.3919 - accuracy: 0.8318 - val_loss: 0.3914 - val_accuracy: 0.8278\n",
            "Epoch 5/10\n",
            "782/782 [==============================] - 2s 2ms/step - loss: 0.3952 - accuracy: 0.8385 - val_loss: 0.3905 - val_accuracy: 0.8250\n",
            "evaluation on test set\n",
            "391/391 [==============================] - 0s 1ms/step - loss: 0.3820 - accuracy: 0.8338\n"
          ],
          "name": "stdout"
        }
      ]
    },
    {
      "cell_type": "markdown",
      "metadata": {
        "id": "RzTSjfwptkHJ"
      },
      "source": [
        "Let's plot the results"
      ]
    },
    {
      "cell_type": "code",
      "metadata": {
        "id": "cIlN1vlioIYh",
        "colab": {
          "base_uri": "https://localhost:8080/",
          "height": 977
        },
        "outputId": "5a7bd352-99dd-4336-e247-b969047c4375"
      },
      "source": [
        "for learning_rate, history in zip(learning_rates, histories):\n",
        "    print(\"Learning rate:\", learning_rate)\n",
        "    plot_learning_acc_and_loss(history)"
      ],
      "execution_count": null,
      "outputs": [
        {
          "output_type": "stream",
          "text": [
            "Learning rate: 0.0001\n"
          ],
          "name": "stdout"
        },
        {
          "output_type": "display_data",
          "data": {
            "image/png": "[encoded data removed]",
            "text/plain": [
              "<Figure size 576x360 with 1 Axes>"
            ]
          },
          "metadata": {
            "tags": [],
            "needs_background": "light"
          }
        },
        {
          "output_type": "stream",
          "text": [
            "Learning rate: 0.01\n"
          ],
          "name": "stdout"
        },
        {
          "output_type": "display_data",
          "data": {
            "image/png": "[encoded data removed]",
            "text/plain": [
              "<Figure size 576x360 with 1 Axes>"
            ]
          },
          "metadata": {
            "tags": [],
            "needs_background": "light"
          }
        },
        {
          "output_type": "stream",
          "text": [
            "Learning rate: 0.1\n"
          ],
          "name": "stdout"
        },
        {
          "output_type": "display_data",
          "data": {
            "image/png": "[encoded data removed]",
            "text/plain": [
              "<Figure size 576x360 with 1 Axes>"
            ]
          },
          "metadata": {
            "tags": [],
            "needs_background": "light"
          }
        }
      ]
    },
    {
      "cell_type": "markdown",
      "metadata": {
        "id": "_JntujSWq3e5"
      },
      "source": [
        "### GRID Search:\n",
        "\n",
        "Since a deep net has many hyperparameters, in order to find the best ones, we have to consider all the possible combinations of all of the possible values. One common method to perform this complex task is Grid-Search.\n",
        "Given a set of values for each hyper-parameter, Grid-Search will build a model on each parameter combination possible. It iterates through every parameter combination and stores a model for each combination. Finally, the model that obtained the best result on the validation set will be select.\n",
        "\n",
        "In order to perfrom Grid-Search we will use the GridSearchCV method from scikit-learn."
      ]
    },
    {
      "cell_type": "markdown",
      "metadata": {
        "id": "CPz629YSrDhN"
      },
      "source": [
        "Let's Create a build_model() function that takes two arguments, n_neurons, learning_rate, and builds, compiles and returns a model with the given number of of neurons and the given learning rate.\n",
        "In order to limit the time requirements of the process we will consider only these two hyper-paramters.\n",
        "\n",
        "in the following code cell define the build_model function."
      ]
    },
    {
      "cell_type": "code",
      "metadata": {
        "id": "oGSKWTTtqxZ4"
      },
      "source": [
        "def build_model(n_units=30, learning_rate=1e-3):\n",
        "    # The function has to build a model similar to the ones we used in previuous execises:\n",
        "    #- a input layer \n",
        "    #- one or two Dense layers composed of n_units and that exploit Relu activation function \n",
        "    #- the output layer that uses the sigmoid activation function\n",
        "    # Then, the model has to be compiled.\n",
        "    model = keras.models.Sequential([\n",
        "      tf.keras.Input(shape=(num_words,)),\n",
        "      keras.layers.Dense(n_units, activation=\"relu\"),\n",
        "      keras.layers.Dense(n_units, activation=\"relu\"),\n",
        "      keras.layers.Dense(1, activation=\"sigmoid\")\n",
        "    ])\n",
        "\n",
        "    # [TO COMPLETE] Then, the model has to be compiled.\n",
        "    model.compile(loss=\"binary_crossentropy\",\n",
        "              optimizer=keras.optimizers.Adam(learning_rate=learning_rate),#[TO COMPLETE] learning rate\n",
        "              metrics=[\"accuracy\"])\n",
        "    return model\n",
        "\n",
        "    \n",
        "#Create a keras.wrappers.scikit_learn.KerasRegressor and pass the build_model \n",
        "#function to the constructor. This gives you a Scikit-Learn compatible predictor\n",
        "keras_reg = keras.wrappers.scikit_learn.KerasRegressor(build_model)"
      ],
      "execution_count": null,
      "outputs": []
    },
    {
      "cell_type": "markdown",
      "metadata": {
        "id": "PS6W3A2LxDg5"
      },
      "source": [
        "Let's define the lists of hyper-parameters' values. Also in this case, we use a very limited size lists, but in a real-world scenario a reasonable amount of possible values should be considered (try to add some values and check how much the time required to perform the Grid-Search increases)"
      ]
    },
    {
      "cell_type": "code",
      "metadata": {
        "id": "y-uldCW3ru24"
      },
      "source": [
        "param_distribs = {\n",
        "    \"n_units\": [10,16,32],# [TO COMPLETE] insert a list that contains few (2 or 3) reasonable value\n",
        "    \"learning_rate\": [ 1e-5,1e-4, 3e-4] #[TO COMPLETE] insert a list that contains few (2 or 3) reasonable values\n",
        "    #Check how the time required to perform GRID search increases when increasing the number of values for each hyper-parameter.\n",
        "}"
      ],
      "execution_count": null,
      "outputs": []
    },
    {
      "cell_type": "markdown",
      "metadata": {
        "id": "bEiBxVYtx_sK"
      },
      "source": [
        "Use a sklearn.model_selection.GridSearchCV to search the hyperparameter space of your KerasRegressor"
      ]
    },
    {
      "cell_type": "code",
      "metadata": {
        "id": "iobF2Bvdr9ER"
      },
      "source": [
        "from sklearn.model_selection import GridSearchCV\n",
        "\n",
        "grid_search = GridSearchCV(keras_reg, param_distribs)"
      ],
      "execution_count": null,
      "outputs": []
    },
    {
      "cell_type": "markdown",
      "metadata": {
        "id": "LVGMcZz_yKSX"
      },
      "source": [
        "Run the Grid-Search"
      ]
    },
    {
      "cell_type": "code",
      "metadata": {
        "id": "-BA3vgTjr-hw",
        "colab": {
          "base_uri": "https://localhost:8080/"
        },
        "outputId": "a5bfe735-f5bb-4075-c831-87c509b5e752"
      },
      "source": [
        "\n",
        "grid_search.fit(X_train.numpy(), y_train, epochs=5,#The number of epochs can be modified (check what happens by increasing it)\n",
        "                validation_data=(X_valid.numpy(), y_valid))"
      ],
      "execution_count": null,
      "outputs": [
        {
          "output_type": "stream",
          "text": [
            "Epoch 1/5\n",
            "625/625 [==============================] - 2s 2ms/step - loss: 0.7082 - accuracy: 0.5022 - val_loss: 0.6994 - val_accuracy: 0.5048\n",
            "Epoch 2/5\n",
            "625/625 [==============================] - 1s 2ms/step - loss: 0.6958 - accuracy: 0.5128 - val_loss: 0.6914 - val_accuracy: 0.5340\n",
            "Epoch 3/5\n",
            "625/625 [==============================] - 1s 2ms/step - loss: 0.6877 - accuracy: 0.5457 - val_loss: 0.6851 - val_accuracy: 0.5615\n",
            "Epoch 4/5\n",
            "625/625 [==============================] - 1s 2ms/step - loss: 0.6811 - accuracy: 0.5835 - val_loss: 0.6786 - val_accuracy: 0.5894\n",
            "Epoch 5/5\n",
            "625/625 [==============================] - 1s 2ms/step - loss: 0.6734 - accuracy: 0.6101 - val_loss: 0.6710 - val_accuracy: 0.6188\n",
            "157/157 [==============================] - 0s 1ms/step - loss: 0.6693 - accuracy: 0.6310\n",
            "Epoch 1/5\n",
            "625/625 [==============================] - 2s 2ms/step - loss: 0.7124 - accuracy: 0.4964 - val_loss: 0.6987 - val_accuracy: 0.5033\n",
            "Epoch 2/5\n",
            "625/625 [==============================] - 1s 2ms/step - loss: 0.6996 - accuracy: 0.4962 - val_loss: 0.6940 - val_accuracy: 0.5074\n",
            "Epoch 3/5\n",
            "625/625 [==============================] - 1s 2ms/step - loss: 0.6943 - accuracy: 0.4984 - val_loss: 0.6912 - val_accuracy: 0.5168\n",
            "Epoch 4/5\n",
            "625/625 [==============================] - 1s 2ms/step - loss: 0.6928 - accuracy: 0.5083 - val_loss: 0.6886 - val_accuracy: 0.5259\n",
            "Epoch 5/5\n",
            "625/625 [==============================] - 1s 2ms/step - loss: 0.6887 - accuracy: 0.5229 - val_loss: 0.6853 - val_accuracy: 0.5401\n",
            "157/157 [==============================] - 0s 1ms/step - loss: 0.6881 - accuracy: 0.5262\n",
            "Epoch 1/5\n",
            "625/625 [==============================] - 2s 3ms/step - loss: 0.7009 - accuracy: 0.4873 - val_loss: 0.6965 - val_accuracy: 0.4978\n",
            "Epoch 2/5\n",
            "625/625 [==============================] - 1s 2ms/step - loss: 0.6949 - accuracy: 0.5023 - val_loss: 0.6923 - val_accuracy: 0.5246\n",
            "Epoch 3/5\n",
            "625/625 [==============================] - 1s 2ms/step - loss: 0.6895 - accuracy: 0.5413 - val_loss: 0.6886 - val_accuracy: 0.5487\n",
            "Epoch 4/5\n",
            "625/625 [==============================] - 1s 2ms/step - loss: 0.6853 - accuracy: 0.5631 - val_loss: 0.6845 - val_accuracy: 0.5714\n",
            "Epoch 5/5\n",
            "625/625 [==============================] - 1s 2ms/step - loss: 0.6813 - accuracy: 0.5877 - val_loss: 0.6794 - val_accuracy: 0.5994\n",
            "157/157 [==============================] - 0s 1ms/step - loss: 0.6811 - accuracy: 0.5976\n",
            "Epoch 1/5\n",
            "625/625 [==============================] - 2s 2ms/step - loss: 0.7155 - accuracy: 0.4988 - val_loss: 0.6989 - val_accuracy: 0.5040\n",
            "Epoch 2/5\n",
            "625/625 [==============================] - 1s 2ms/step - loss: 0.6954 - accuracy: 0.5152 - val_loss: 0.6904 - val_accuracy: 0.5282\n",
            "Epoch 3/5\n",
            "625/625 [==============================] - 1s 2ms/step - loss: 0.6887 - accuracy: 0.5336 - val_loss: 0.6840 - val_accuracy: 0.5522\n",
            "Epoch 4/5\n",
            "625/625 [==============================] - 1s 2ms/step - loss: 0.6801 - accuracy: 0.5643 - val_loss: 0.6766 - val_accuracy: 0.5795\n",
            "Epoch 5/5\n",
            "625/625 [==============================] - 1s 2ms/step - loss: 0.6721 - accuracy: 0.5915 - val_loss: 0.6669 - val_accuracy: 0.6074\n",
            "157/157 [==============================] - 0s 1ms/step - loss: 0.6635 - accuracy: 0.6252\n",
            "Epoch 1/5\n",
            "625/625 [==============================] - 2s 2ms/step - loss: 0.7027 - accuracy: 0.5055 - val_loss: 0.6905 - val_accuracy: 0.5418\n",
            "Epoch 2/5\n",
            "625/625 [==============================] - 1s 2ms/step - loss: 0.6848 - accuracy: 0.5552 - val_loss: 0.6803 - val_accuracy: 0.5753\n",
            "Epoch 3/5\n",
            "625/625 [==============================] - 1s 2ms/step - loss: 0.6754 - accuracy: 0.5796 - val_loss: 0.6682 - val_accuracy: 0.6070\n",
            "Epoch 4/5\n",
            "625/625 [==============================] - 1s 2ms/step - loss: 0.6610 - accuracy: 0.6231 - val_loss: 0.6537 - val_accuracy: 0.6378\n",
            "Epoch 5/5\n",
            "625/625 [==============================] - 1s 2ms/step - loss: 0.6455 - accuracy: 0.6532 - val_loss: 0.6376 - val_accuracy: 0.6685\n",
            "157/157 [==============================] - 0s 1ms/step - loss: 0.6332 - accuracy: 0.6758\n",
            "Epoch 1/5\n",
            "625/625 [==============================] - 2s 2ms/step - loss: 0.7079 - accuracy: 0.5009 - val_loss: 0.6939 - val_accuracy: 0.5124\n",
            "Epoch 2/5\n",
            "625/625 [==============================] - 1s 2ms/step - loss: 0.6883 - accuracy: 0.5232 - val_loss: 0.6836 - val_accuracy: 0.5493\n",
            "Epoch 3/5\n",
            "625/625 [==============================] - 1s 2ms/step - loss: 0.6781 - accuracy: 0.5700 - val_loss: 0.6742 - val_accuracy: 0.5856\n",
            "Epoch 4/5\n",
            "625/625 [==============================] - 1s 2ms/step - loss: 0.6675 - accuracy: 0.6088 - val_loss: 0.6621 - val_accuracy: 0.6260\n",
            "Epoch 5/5\n",
            "625/625 [==============================] - 1s 2ms/step - loss: 0.6535 - accuracy: 0.6519 - val_loss: 0.6468 - val_accuracy: 0.6639\n",
            "157/157 [==============================] - 0s 1ms/step - loss: 0.6438 - accuracy: 0.6728\n",
            "Epoch 1/5\n",
            "625/625 [==============================] - 2s 2ms/step - loss: 0.7067 - accuracy: 0.5037 - val_loss: 0.6912 - val_accuracy: 0.5210\n",
            "Epoch 2/5\n",
            "625/625 [==============================] - 1s 2ms/step - loss: 0.6904 - accuracy: 0.5203 - val_loss: 0.6823 - val_accuracy: 0.5580\n",
            "Epoch 3/5\n",
            "625/625 [==============================] - 1s 2ms/step - loss: 0.6798 - accuracy: 0.5633 - val_loss: 0.6731 - val_accuracy: 0.5942\n",
            "Epoch 4/5\n",
            "625/625 [==============================] - 1s 2ms/step - loss: 0.6704 - accuracy: 0.5980 - val_loss: 0.6613 - val_accuracy: 0.6223\n",
            "Epoch 5/5\n",
            "625/625 [==============================] - 1s 2ms/step - loss: 0.6556 - accuracy: 0.6336 - val_loss: 0.6467 - val_accuracy: 0.6536\n",
            "157/157 [==============================] - 0s 1ms/step - loss: 0.6466 - accuracy: 0.6558\n",
            "Epoch 1/5\n",
            "625/625 [==============================] - 2s 2ms/step - loss: 0.6951 - accuracy: 0.4997 - val_loss: 0.6887 - val_accuracy: 0.5335\n",
            "Epoch 2/5\n",
            "625/625 [==============================] - 1s 2ms/step - loss: 0.6851 - accuracy: 0.5479 - val_loss: 0.6796 - val_accuracy: 0.5746\n",
            "Epoch 3/5\n",
            "625/625 [==============================] - 1s 2ms/step - loss: 0.6768 - accuracy: 0.5808 - val_loss: 0.6682 - val_accuracy: 0.6076\n",
            "Epoch 4/5\n",
            "625/625 [==============================] - 1s 2ms/step - loss: 0.6650 - accuracy: 0.6189 - val_loss: 0.6539 - val_accuracy: 0.6367\n",
            "Epoch 5/5\n",
            "625/625 [==============================] - 1s 2ms/step - loss: 0.6498 - accuracy: 0.6429 - val_loss: 0.6374 - val_accuracy: 0.6647\n",
            "157/157 [==============================] - 0s 1ms/step - loss: 0.6324 - accuracy: 0.6814\n",
            "Epoch 1/5\n",
            "625/625 [==============================] - 2s 2ms/step - loss: 0.6914 - accuracy: 0.5258 - val_loss: 0.6869 - val_accuracy: 0.5450\n",
            "Epoch 2/5\n",
            "625/625 [==============================] - 1s 2ms/step - loss: 0.6835 - accuracy: 0.5664 - val_loss: 0.6789 - val_accuracy: 0.5806\n",
            "Epoch 3/5\n",
            "625/625 [==============================] - 1s 2ms/step - loss: 0.6736 - accuracy: 0.6009 - val_loss: 0.6677 - val_accuracy: 0.6218\n",
            "Epoch 4/5\n",
            "625/625 [==============================] - 1s 2ms/step - loss: 0.6613 - accuracy: 0.6326 - val_loss: 0.6529 - val_accuracy: 0.6546\n",
            "Epoch 5/5\n",
            "625/625 [==============================] - 1s 2ms/step - loss: 0.6431 - accuracy: 0.6729 - val_loss: 0.6348 - val_accuracy: 0.6858\n",
            "157/157 [==============================] - 0s 1ms/step - loss: 0.6332 - accuracy: 0.6906\n",
            "Epoch 1/5\n",
            "625/625 [==============================] - 2s 2ms/step - loss: 0.6916 - accuracy: 0.5302 - val_loss: 0.6858 - val_accuracy: 0.5518\n",
            "Epoch 2/5\n",
            "625/625 [==============================] - 1s 2ms/step - loss: 0.6810 - accuracy: 0.5759 - val_loss: 0.6773 - val_accuracy: 0.5899\n",
            "Epoch 3/5\n",
            "625/625 [==============================] - 1s 2ms/step - loss: 0.6714 - accuracy: 0.6073 - val_loss: 0.6670 - val_accuracy: 0.6246\n",
            "Epoch 4/5\n",
            "625/625 [==============================] - 1s 2ms/step - loss: 0.6598 - accuracy: 0.6418 - val_loss: 0.6542 - val_accuracy: 0.6546\n",
            "Epoch 5/5\n",
            "625/625 [==============================] - 1s 2ms/step - loss: 0.6446 - accuracy: 0.6793 - val_loss: 0.6390 - val_accuracy: 0.6844\n",
            "157/157 [==============================] - 0s 1ms/step - loss: 0.6341 - accuracy: 0.6914\n",
            "Epoch 1/5\n",
            "625/625 [==============================] - 2s 2ms/step - loss: 0.6894 - accuracy: 0.5387 - val_loss: 0.6801 - val_accuracy: 0.5769\n",
            "Epoch 2/5\n",
            "625/625 [==============================] - 1s 2ms/step - loss: 0.6750 - accuracy: 0.6017 - val_loss: 0.6647 - val_accuracy: 0.6314\n",
            "Epoch 3/5\n",
            "625/625 [==============================] - 1s 2ms/step - loss: 0.6576 - accuracy: 0.6553 - val_loss: 0.6423 - val_accuracy: 0.6800\n",
            "Epoch 4/5\n",
            "625/625 [==============================] - 1s 2ms/step - loss: 0.6321 - accuracy: 0.7019 - val_loss: 0.6120 - val_accuracy: 0.7182\n",
            "Epoch 5/5\n",
            "625/625 [==============================] - 1s 2ms/step - loss: 0.5976 - accuracy: 0.7397 - val_loss: 0.5783 - val_accuracy: 0.7454\n",
            "157/157 [==============================] - 0s 1ms/step - loss: 0.5805 - accuracy: 0.7468\n",
            "Epoch 1/5\n",
            "625/625 [==============================] - 2s 3ms/step - loss: 0.6874 - accuracy: 0.5377 - val_loss: 0.6780 - val_accuracy: 0.5843\n",
            "Epoch 2/5\n",
            "625/625 [==============================] - 1s 2ms/step - loss: 0.6738 - accuracy: 0.5964 - val_loss: 0.6632 - val_accuracy: 0.6267\n",
            "Epoch 3/5\n",
            "625/625 [==============================] - 1s 2ms/step - loss: 0.6559 - accuracy: 0.6487 - val_loss: 0.6422 - val_accuracy: 0.6687\n",
            "Epoch 4/5\n",
            "625/625 [==============================] - 1s 2ms/step - loss: 0.6340 - accuracy: 0.6858 - val_loss: 0.6163 - val_accuracy: 0.7000\n",
            "Epoch 5/5\n",
            "625/625 [==============================] - 1s 2ms/step - loss: 0.6036 - accuracy: 0.7221 - val_loss: 0.5876 - val_accuracy: 0.7330\n",
            "157/157 [==============================] - 0s 1ms/step - loss: 0.5820 - accuracy: 0.7474\n",
            "Epoch 1/5\n",
            "625/625 [==============================] - 2s 2ms/step - loss: 0.6913 - accuracy: 0.5350 - val_loss: 0.6784 - val_accuracy: 0.5851\n",
            "Epoch 2/5\n",
            "625/625 [==============================] - 1s 2ms/step - loss: 0.6733 - accuracy: 0.5977 - val_loss: 0.6616 - val_accuracy: 0.6315\n",
            "Epoch 3/5\n",
            "625/625 [==============================] - 1s 2ms/step - loss: 0.6538 - accuracy: 0.6516 - val_loss: 0.6389 - val_accuracy: 0.6784\n",
            "Epoch 4/5\n",
            "625/625 [==============================] - 2s 2ms/step - loss: 0.6301 - accuracy: 0.6907 - val_loss: 0.6117 - val_accuracy: 0.7152\n",
            "Epoch 5/5\n",
            "625/625 [==============================] - 1s 2ms/step - loss: 0.6011 - accuracy: 0.7277 - val_loss: 0.5822 - val_accuracy: 0.7436\n",
            "157/157 [==============================] - 0s 1ms/step - loss: 0.5772 - accuracy: 0.7508\n",
            "Epoch 1/5\n",
            "625/625 [==============================] - 2s 3ms/step - loss: 0.7047 - accuracy: 0.4897 - val_loss: 0.6929 - val_accuracy: 0.5107\n",
            "Epoch 2/5\n",
            "625/625 [==============================] - 1s 2ms/step - loss: 0.6907 - accuracy: 0.5204 - val_loss: 0.6836 - val_accuracy: 0.5436\n",
            "Epoch 3/5\n",
            "625/625 [==============================] - 1s 2ms/step - loss: 0.6816 - accuracy: 0.5507 - val_loss: 0.6714 - val_accuracy: 0.5929\n",
            "Epoch 4/5\n",
            "625/625 [==============================] - 1s 2ms/step - loss: 0.6679 - accuracy: 0.6029 - val_loss: 0.6541 - val_accuracy: 0.6424\n",
            "Epoch 5/5\n",
            "625/625 [==============================] - 1s 2ms/step - loss: 0.6464 - accuracy: 0.6647 - val_loss: 0.6321 - val_accuracy: 0.6868\n",
            "157/157 [==============================] - 0s 1ms/step - loss: 0.6321 - accuracy: 0.6828\n",
            "Epoch 1/5\n",
            "625/625 [==============================] - 2s 3ms/step - loss: 0.6954 - accuracy: 0.5080 - val_loss: 0.6867 - val_accuracy: 0.5498\n",
            "Epoch 2/5\n",
            "625/625 [==============================] - 1s 2ms/step - loss: 0.6829 - accuracy: 0.5721 - val_loss: 0.6749 - val_accuracy: 0.6042\n",
            "Epoch 3/5\n",
            "625/625 [==============================] - 1s 2ms/step - loss: 0.6707 - accuracy: 0.6143 - val_loss: 0.6589 - val_accuracy: 0.6507\n",
            "Epoch 4/5\n",
            "625/625 [==============================] - 2s 2ms/step - loss: 0.6529 - accuracy: 0.6656 - val_loss: 0.6374 - val_accuracy: 0.6906\n",
            "Epoch 5/5\n",
            "625/625 [==============================] - 1s 2ms/step - loss: 0.6289 - accuracy: 0.7069 - val_loss: 0.6107 - val_accuracy: 0.7277\n",
            "157/157 [==============================] - 0s 1ms/step - loss: 0.6072 - accuracy: 0.7270\n",
            "Epoch 1/5\n",
            "625/625 [==============================] - 2s 2ms/step - loss: 0.6644 - accuracy: 0.5806 - val_loss: 0.5430 - val_accuracy: 0.7544\n",
            "Epoch 2/5\n",
            "625/625 [==============================] - 1s 2ms/step - loss: 0.4964 - accuracy: 0.7885 - val_loss: 0.4340 - val_accuracy: 0.8178\n",
            "Epoch 3/5\n",
            "625/625 [==============================] - 1s 2ms/step - loss: 0.4044 - accuracy: 0.8376 - val_loss: 0.3862 - val_accuracy: 0.8374\n",
            "Epoch 4/5\n",
            "625/625 [==============================] - 1s 2ms/step - loss: 0.3599 - accuracy: 0.8516 - val_loss: 0.3623 - val_accuracy: 0.8469\n",
            "Epoch 5/5\n",
            "625/625 [==============================] - 1s 2ms/step - loss: 0.3297 - accuracy: 0.8657 - val_loss: 0.3504 - val_accuracy: 0.8509\n",
            "157/157 [==============================] - 0s 1ms/step - loss: 0.3442 - accuracy: 0.8570\n",
            "Epoch 1/5\n",
            "625/625 [==============================] - 2s 2ms/step - loss: 0.6837 - accuracy: 0.5518 - val_loss: 0.6053 - val_accuracy: 0.7443\n",
            "Epoch 2/5\n",
            "625/625 [==============================] - 1s 2ms/step - loss: 0.5576 - accuracy: 0.7803 - val_loss: 0.4581 - val_accuracy: 0.8206\n",
            "Epoch 3/5\n",
            "625/625 [==============================] - 2s 2ms/step - loss: 0.4303 - accuracy: 0.8273 - val_loss: 0.3921 - val_accuracy: 0.8405\n",
            "Epoch 4/5\n",
            "625/625 [==============================] - 1s 2ms/step - loss: 0.3674 - accuracy: 0.8504 - val_loss: 0.3629 - val_accuracy: 0.8494\n",
            "Epoch 5/5\n",
            "625/625 [==============================] - 1s 2ms/step - loss: 0.3335 - accuracy: 0.8657 - val_loss: 0.3495 - val_accuracy: 0.8540\n",
            "157/157 [==============================] - 0s 1ms/step - loss: 0.3389 - accuracy: 0.8552\n",
            "Epoch 1/5\n",
            "625/625 [==============================] - 2s 2ms/step - loss: 0.6645 - accuracy: 0.5898 - val_loss: 0.5286 - val_accuracy: 0.7660\n",
            "Epoch 2/5\n",
            "625/625 [==============================] - 1s 2ms/step - loss: 0.4810 - accuracy: 0.7996 - val_loss: 0.4184 - val_accuracy: 0.8276\n",
            "Epoch 3/5\n",
            "625/625 [==============================] - 1s 2ms/step - loss: 0.3955 - accuracy: 0.8357 - val_loss: 0.3743 - val_accuracy: 0.8426\n",
            "Epoch 4/5\n",
            "625/625 [==============================] - 1s 2ms/step - loss: 0.3460 - accuracy: 0.8571 - val_loss: 0.3549 - val_accuracy: 0.8497\n",
            "Epoch 5/5\n",
            "625/625 [==============================] - 1s 2ms/step - loss: 0.3240 - accuracy: 0.8673 - val_loss: 0.3441 - val_accuracy: 0.8551\n",
            "157/157 [==============================] - 0s 1ms/step - loss: 0.3463 - accuracy: 0.8532\n",
            "Epoch 1/5\n",
            "625/625 [==============================] - 2s 2ms/step - loss: 0.6806 - accuracy: 0.5746 - val_loss: 0.5748 - val_accuracy: 0.7532\n",
            "Epoch 2/5\n",
            "625/625 [==============================] - 1s 2ms/step - loss: 0.5238 - accuracy: 0.7891 - val_loss: 0.4270 - val_accuracy: 0.8194\n",
            "Epoch 3/5\n",
            "625/625 [==============================] - 1s 2ms/step - loss: 0.4020 - accuracy: 0.8322 - val_loss: 0.3767 - val_accuracy: 0.8380\n",
            "Epoch 4/5\n",
            "625/625 [==============================] - 1s 2ms/step - loss: 0.3565 - accuracy: 0.8467 - val_loss: 0.3563 - val_accuracy: 0.8478\n",
            "Epoch 5/5\n",
            "625/625 [==============================] - 1s 2ms/step - loss: 0.3262 - accuracy: 0.8639 - val_loss: 0.3464 - val_accuracy: 0.8522\n",
            "157/157 [==============================] - 0s 1ms/step - loss: 0.3448 - accuracy: 0.8550\n",
            "Epoch 1/5\n",
            "625/625 [==============================] - 2s 2ms/step - loss: 0.6786 - accuracy: 0.5744 - val_loss: 0.5842 - val_accuracy: 0.7407\n",
            "Epoch 2/5\n",
            "625/625 [==============================] - 1s 2ms/step - loss: 0.5392 - accuracy: 0.7762 - val_loss: 0.4503 - val_accuracy: 0.8190\n",
            "Epoch 3/5\n",
            "625/625 [==============================] - 1s 2ms/step - loss: 0.4229 - accuracy: 0.8279 - val_loss: 0.3899 - val_accuracy: 0.8422\n",
            "Epoch 4/5\n",
            "625/625 [==============================] - 1s 2ms/step - loss: 0.3655 - accuracy: 0.8541 - val_loss: 0.3630 - val_accuracy: 0.8488\n",
            "Epoch 5/5\n",
            "625/625 [==============================] - 1s 2ms/step - loss: 0.3388 - accuracy: 0.8604 - val_loss: 0.3502 - val_accuracy: 0.8514\n",
            "157/157 [==============================] - 0s 1ms/step - loss: 0.3429 - accuracy: 0.8600\n",
            "Epoch 1/5\n",
            "625/625 [==============================] - 2s 2ms/step - loss: 0.6670 - accuracy: 0.5821 - val_loss: 0.5173 - val_accuracy: 0.7866\n",
            "Epoch 2/5\n",
            "625/625 [==============================] - 1s 2ms/step - loss: 0.4667 - accuracy: 0.8163 - val_loss: 0.4014 - val_accuracy: 0.8342\n",
            "Epoch 3/5\n",
            "625/625 [==============================] - 1s 2ms/step - loss: 0.3741 - accuracy: 0.8543 - val_loss: 0.3606 - val_accuracy: 0.8459\n",
            "Epoch 4/5\n",
            "625/625 [==============================] - 1s 2ms/step - loss: 0.3350 - accuracy: 0.8625 - val_loss: 0.3467 - val_accuracy: 0.8525\n",
            "Epoch 5/5\n",
            "625/625 [==============================] - 1s 2ms/step - loss: 0.3102 - accuracy: 0.8709 - val_loss: 0.3413 - val_accuracy: 0.8533\n",
            "157/157 [==============================] - 0s 1ms/step - loss: 0.3379 - accuracy: 0.8594\n",
            "Epoch 1/5\n",
            "625/625 [==============================] - 2s 2ms/step - loss: 0.6690 - accuracy: 0.5873 - val_loss: 0.5227 - val_accuracy: 0.7820\n",
            "Epoch 2/5\n",
            "625/625 [==============================] - 1s 2ms/step - loss: 0.4683 - accuracy: 0.8183 - val_loss: 0.3982 - val_accuracy: 0.8378\n",
            "Epoch 3/5\n",
            "625/625 [==============================] - 1s 2ms/step - loss: 0.3728 - accuracy: 0.8498 - val_loss: 0.3595 - val_accuracy: 0.8477\n",
            "Epoch 4/5\n",
            "625/625 [==============================] - 1s 2ms/step - loss: 0.3338 - accuracy: 0.8648 - val_loss: 0.3446 - val_accuracy: 0.8542\n",
            "Epoch 5/5\n",
            "625/625 [==============================] - 1s 2ms/step - loss: 0.3128 - accuracy: 0.8737 - val_loss: 0.3386 - val_accuracy: 0.8554\n",
            "157/157 [==============================] - 0s 1ms/step - loss: 0.3275 - accuracy: 0.8608\n",
            "Epoch 1/5\n",
            "625/625 [==============================] - 2s 2ms/step - loss: 0.6657 - accuracy: 0.6023 - val_loss: 0.5298 - val_accuracy: 0.7811\n",
            "Epoch 2/5\n",
            "625/625 [==============================] - 1s 2ms/step - loss: 0.4734 - accuracy: 0.8072 - val_loss: 0.4039 - val_accuracy: 0.8282\n",
            "Epoch 3/5\n",
            "625/625 [==============================] - 1s 2ms/step - loss: 0.3731 - accuracy: 0.8474 - val_loss: 0.3639 - val_accuracy: 0.8438\n",
            "Epoch 4/5\n",
            "625/625 [==============================] - 1s 2ms/step - loss: 0.3324 - accuracy: 0.8621 - val_loss: 0.3480 - val_accuracy: 0.8509\n",
            "Epoch 5/5\n",
            "625/625 [==============================] - 1s 2ms/step - loss: 0.3110 - accuracy: 0.8726 - val_loss: 0.3411 - val_accuracy: 0.8549\n",
            "157/157 [==============================] - 0s 1ms/step - loss: 0.3441 - accuracy: 0.8544\n",
            "Epoch 1/5\n",
            "625/625 [==============================] - 2s 2ms/step - loss: 0.6721 - accuracy: 0.5728 - val_loss: 0.5244 - val_accuracy: 0.7691\n",
            "Epoch 2/5\n",
            "625/625 [==============================] - 1s 2ms/step - loss: 0.4640 - accuracy: 0.8104 - val_loss: 0.4048 - val_accuracy: 0.8294\n",
            "Epoch 3/5\n",
            "625/625 [==============================] - 1s 2ms/step - loss: 0.3722 - accuracy: 0.8431 - val_loss: 0.3653 - val_accuracy: 0.8474\n",
            "Epoch 4/5\n",
            "625/625 [==============================] - 1s 2ms/step - loss: 0.3339 - accuracy: 0.8648 - val_loss: 0.3501 - val_accuracy: 0.8517\n",
            "Epoch 5/5\n",
            "625/625 [==============================] - 1s 2ms/step - loss: 0.3113 - accuracy: 0.8746 - val_loss: 0.3434 - val_accuracy: 0.8538\n",
            "157/157 [==============================] - 0s 1ms/step - loss: 0.3391 - accuracy: 0.8600\n",
            "Epoch 1/5\n",
            "625/625 [==============================] - 2s 2ms/step - loss: 0.6721 - accuracy: 0.5777 - val_loss: 0.5185 - val_accuracy: 0.7892\n",
            "Epoch 2/5\n",
            "625/625 [==============================] - 1s 2ms/step - loss: 0.4623 - accuracy: 0.8174 - val_loss: 0.3937 - val_accuracy: 0.8349\n",
            "Epoch 3/5\n",
            "625/625 [==============================] - 1s 2ms/step - loss: 0.3687 - accuracy: 0.8458 - val_loss: 0.3592 - val_accuracy: 0.8498\n",
            "Epoch 4/5\n",
            "625/625 [==============================] - 1s 2ms/step - loss: 0.3323 - accuracy: 0.8592 - val_loss: 0.3466 - val_accuracy: 0.8538\n",
            "Epoch 5/5\n",
            "625/625 [==============================] - 1s 2ms/step - loss: 0.3130 - accuracy: 0.8690 - val_loss: 0.3416 - val_accuracy: 0.8560\n",
            "157/157 [==============================] - 0s 1ms/step - loss: 0.3335 - accuracy: 0.8564\n",
            "Epoch 1/5\n",
            "625/625 [==============================] - 2s 3ms/step - loss: 0.6414 - accuracy: 0.6364 - val_loss: 0.4642 - val_accuracy: 0.8062\n",
            "Epoch 2/5\n",
            "625/625 [==============================] - 2s 2ms/step - loss: 0.4128 - accuracy: 0.8331 - val_loss: 0.3734 - val_accuracy: 0.8435\n",
            "Epoch 3/5\n",
            "625/625 [==============================] - 1s 2ms/step - loss: 0.3436 - accuracy: 0.8593 - val_loss: 0.3504 - val_accuracy: 0.8519\n",
            "Epoch 4/5\n",
            "625/625 [==============================] - 2s 2ms/step - loss: 0.3170 - accuracy: 0.8669 - val_loss: 0.3446 - val_accuracy: 0.8550\n",
            "Epoch 5/5\n",
            "625/625 [==============================] - 1s 2ms/step - loss: 0.2973 - accuracy: 0.8792 - val_loss: 0.3423 - val_accuracy: 0.8548\n",
            "157/157 [==============================] - 0s 1ms/step - loss: 0.3364 - accuracy: 0.8598\n",
            "Epoch 1/5\n",
            "625/625 [==============================] - 2s 3ms/step - loss: 0.6643 - accuracy: 0.6056 - val_loss: 0.4804 - val_accuracy: 0.7969\n",
            "Epoch 2/5\n",
            "625/625 [==============================] - 1s 2ms/step - loss: 0.4203 - accuracy: 0.8274 - val_loss: 0.3666 - val_accuracy: 0.8443\n",
            "Epoch 3/5\n",
            "625/625 [==============================] - 2s 2ms/step - loss: 0.3397 - accuracy: 0.8584 - val_loss: 0.3467 - val_accuracy: 0.8534\n",
            "Epoch 4/5\n",
            "625/625 [==============================] - 2s 2ms/step - loss: 0.3123 - accuracy: 0.8673 - val_loss: 0.3422 - val_accuracy: 0.8563\n",
            "Epoch 5/5\n",
            "625/625 [==============================] - 2s 2ms/step - loss: 0.2962 - accuracy: 0.8784 - val_loss: 0.3401 - val_accuracy: 0.8572\n",
            "157/157 [==============================] - 0s 1ms/step - loss: 0.3304 - accuracy: 0.8578\n",
            "Epoch 1/5\n",
            "625/625 [==============================] - 2s 3ms/step - loss: 0.6546 - accuracy: 0.6080 - val_loss: 0.4734 - val_accuracy: 0.7938\n",
            "Epoch 2/5\n",
            "625/625 [==============================] - 2s 2ms/step - loss: 0.4181 - accuracy: 0.8246 - val_loss: 0.3741 - val_accuracy: 0.8398\n",
            "Epoch 3/5\n",
            "625/625 [==============================] - 1s 2ms/step - loss: 0.3436 - accuracy: 0.8582 - val_loss: 0.3494 - val_accuracy: 0.8494\n",
            "Epoch 4/5\n",
            "625/625 [==============================] - 2s 2ms/step - loss: 0.3139 - accuracy: 0.8695 - val_loss: 0.3424 - val_accuracy: 0.8537\n",
            "Epoch 5/5\n",
            "625/625 [==============================] - 2s 3ms/step - loss: 0.2965 - accuracy: 0.8785 - val_loss: 0.3390 - val_accuracy: 0.8537\n",
            "157/157 [==============================] - 0s 1ms/step - loss: 0.3434 - accuracy: 0.8506\n",
            "Epoch 1/5\n",
            "625/625 [==============================] - 2s 3ms/step - loss: 0.6532 - accuracy: 0.6134 - val_loss: 0.4602 - val_accuracy: 0.8066\n",
            "Epoch 2/5\n",
            "625/625 [==============================] - 1s 2ms/step - loss: 0.4054 - accuracy: 0.8304 - val_loss: 0.3695 - val_accuracy: 0.8466\n",
            "Epoch 3/5\n",
            "625/625 [==============================] - 1s 2ms/step - loss: 0.3390 - accuracy: 0.8577 - val_loss: 0.3455 - val_accuracy: 0.8539\n",
            "Epoch 4/5\n",
            "625/625 [==============================] - 1s 2ms/step - loss: 0.3146 - accuracy: 0.8693 - val_loss: 0.3410 - val_accuracy: 0.8545\n",
            "Epoch 5/5\n",
            "625/625 [==============================] - 2s 2ms/step - loss: 0.2966 - accuracy: 0.8769 - val_loss: 0.3392 - val_accuracy: 0.8556\n",
            "157/157 [==============================] - 0s 1ms/step - loss: 0.3335 - accuracy: 0.8620\n",
            "Epoch 1/5\n",
            "625/625 [==============================] - 2s 3ms/step - loss: 0.6592 - accuracy: 0.5958 - val_loss: 0.4665 - val_accuracy: 0.8085\n",
            "Epoch 2/5\n",
            "625/625 [==============================] - 1s 2ms/step - loss: 0.4182 - accuracy: 0.8317 - val_loss: 0.3730 - val_accuracy: 0.8429\n",
            "Epoch 3/5\n",
            "625/625 [==============================] - 2s 2ms/step - loss: 0.3432 - accuracy: 0.8534 - val_loss: 0.3497 - val_accuracy: 0.8510\n",
            "Epoch 4/5\n",
            "625/625 [==============================] - 2s 2ms/step - loss: 0.3159 - accuracy: 0.8685 - val_loss: 0.3424 - val_accuracy: 0.8541\n",
            "Epoch 5/5\n",
            "625/625 [==============================] - 1s 2ms/step - loss: 0.3027 - accuracy: 0.8738 - val_loss: 0.3421 - val_accuracy: 0.8543\n",
            "157/157 [==============================] - 0s 1ms/step - loss: 0.3326 - accuracy: 0.8620\n",
            "Epoch 1/5\n",
            "625/625 [==============================] - 2s 2ms/step - loss: 0.5890 - accuracy: 0.6782 - val_loss: 0.3776 - val_accuracy: 0.8401\n",
            "Epoch 2/5\n",
            "625/625 [==============================] - 1s 2ms/step - loss: 0.3399 - accuracy: 0.8606 - val_loss: 0.3449 - val_accuracy: 0.8510\n",
            "Epoch 3/5\n",
            "625/625 [==============================] - 1s 2ms/step - loss: 0.3110 - accuracy: 0.8733 - val_loss: 0.3404 - val_accuracy: 0.8533\n",
            "Epoch 4/5\n",
            "625/625 [==============================] - 1s 2ms/step - loss: 0.3010 - accuracy: 0.8746 - val_loss: 0.3420 - val_accuracy: 0.8526\n",
            "Epoch 5/5\n",
            "625/625 [==============================] - 1s 2ms/step - loss: 0.2870 - accuracy: 0.8804 - val_loss: 0.3503 - val_accuracy: 0.8505\n",
            "157/157 [==============================] - 0s 1ms/step - loss: 0.3476 - accuracy: 0.8568\n",
            "Epoch 1/5\n",
            "625/625 [==============================] - 2s 2ms/step - loss: 0.6237 - accuracy: 0.6405 - val_loss: 0.3891 - val_accuracy: 0.8386\n",
            "Epoch 2/5\n",
            "625/625 [==============================] - 1s 2ms/step - loss: 0.3495 - accuracy: 0.8602 - val_loss: 0.3448 - val_accuracy: 0.8524\n",
            "Epoch 3/5\n",
            "625/625 [==============================] - 1s 2ms/step - loss: 0.3192 - accuracy: 0.8674 - val_loss: 0.3392 - val_accuracy: 0.8553\n",
            "Epoch 4/5\n",
            "625/625 [==============================] - 1s 2ms/step - loss: 0.3043 - accuracy: 0.8756 - val_loss: 0.3398 - val_accuracy: 0.8547\n",
            "Epoch 5/5\n",
            "625/625 [==============================] - 2s 2ms/step - loss: 0.2901 - accuracy: 0.8825 - val_loss: 0.3409 - val_accuracy: 0.8557\n",
            "157/157 [==============================] - 0s 1ms/step - loss: 0.3302 - accuracy: 0.8628\n",
            "Epoch 1/5\n",
            "625/625 [==============================] - 2s 2ms/step - loss: 0.6087 - accuracy: 0.6584 - val_loss: 0.3793 - val_accuracy: 0.8414\n",
            "Epoch 2/5\n",
            "625/625 [==============================] - 1s 2ms/step - loss: 0.3422 - accuracy: 0.8606 - val_loss: 0.3412 - val_accuracy: 0.8538\n",
            "Epoch 3/5\n",
            "625/625 [==============================] - 1s 2ms/step - loss: 0.3158 - accuracy: 0.8693 - val_loss: 0.3374 - val_accuracy: 0.8554\n",
            "Epoch 4/5\n",
            "625/625 [==============================] - 1s 2ms/step - loss: 0.3024 - accuracy: 0.8757 - val_loss: 0.3410 - val_accuracy: 0.8524\n",
            "Epoch 5/5\n",
            "625/625 [==============================] - 1s 2ms/step - loss: 0.2912 - accuracy: 0.8798 - val_loss: 0.3392 - val_accuracy: 0.8544\n",
            "157/157 [==============================] - 0s 1ms/step - loss: 0.3430 - accuracy: 0.8556\n",
            "Epoch 1/5\n",
            "625/625 [==============================] - 2s 2ms/step - loss: 0.6481 - accuracy: 0.6264 - val_loss: 0.4102 - val_accuracy: 0.8329\n",
            "Epoch 2/5\n",
            "625/625 [==============================] - 1s 2ms/step - loss: 0.3634 - accuracy: 0.8568 - val_loss: 0.3500 - val_accuracy: 0.8517\n",
            "Epoch 3/5\n",
            "625/625 [==============================] - 1s 2ms/step - loss: 0.3207 - accuracy: 0.8637 - val_loss: 0.3381 - val_accuracy: 0.8572\n",
            "Epoch 4/5\n",
            "625/625 [==============================] - 1s 2ms/step - loss: 0.3068 - accuracy: 0.8737 - val_loss: 0.3388 - val_accuracy: 0.8563\n",
            "Epoch 5/5\n",
            "625/625 [==============================] - 1s 2ms/step - loss: 0.2921 - accuracy: 0.8813 - val_loss: 0.3390 - val_accuracy: 0.8548\n",
            "157/157 [==============================] - 0s 1ms/step - loss: 0.3349 - accuracy: 0.8608\n",
            "Epoch 1/5\n",
            "625/625 [==============================] - 2s 2ms/step - loss: 0.6338 - accuracy: 0.6633 - val_loss: 0.4002 - val_accuracy: 0.8373\n",
            "Epoch 2/5\n",
            "625/625 [==============================] - 1s 2ms/step - loss: 0.3603 - accuracy: 0.8566 - val_loss: 0.3459 - val_accuracy: 0.8538\n",
            "Epoch 3/5\n",
            "625/625 [==============================] - 1s 2ms/step - loss: 0.3194 - accuracy: 0.8638 - val_loss: 0.3388 - val_accuracy: 0.8571\n",
            "Epoch 4/5\n",
            "625/625 [==============================] - 1s 2ms/step - loss: 0.3059 - accuracy: 0.8740 - val_loss: 0.3390 - val_accuracy: 0.8554\n",
            "Epoch 5/5\n",
            "625/625 [==============================] - 1s 2ms/step - loss: 0.2974 - accuracy: 0.8794 - val_loss: 0.3439 - val_accuracy: 0.8536\n",
            "157/157 [==============================] - 0s 1ms/step - loss: 0.3337 - accuracy: 0.8602\n",
            "Epoch 1/5\n",
            "625/625 [==============================] - 2s 2ms/step - loss: 0.5970 - accuracy: 0.6743 - val_loss: 0.3622 - val_accuracy: 0.8474\n",
            "Epoch 2/5\n",
            "625/625 [==============================] - 1s 2ms/step - loss: 0.3289 - accuracy: 0.8650 - val_loss: 0.3405 - val_accuracy: 0.8538\n",
            "Epoch 3/5\n",
            "625/625 [==============================] - 1s 2ms/step - loss: 0.3068 - accuracy: 0.8745 - val_loss: 0.3395 - val_accuracy: 0.8560\n",
            "Epoch 4/5\n",
            "625/625 [==============================] - 1s 2ms/step - loss: 0.2981 - accuracy: 0.8750 - val_loss: 0.3419 - val_accuracy: 0.8559\n",
            "Epoch 5/5\n",
            "625/625 [==============================] - 1s 2ms/step - loss: 0.2828 - accuracy: 0.8830 - val_loss: 0.3548 - val_accuracy: 0.8493\n",
            "157/157 [==============================] - 0s 1ms/step - loss: 0.3503 - accuracy: 0.8566\n",
            "Epoch 1/5\n",
            "625/625 [==============================] - 2s 2ms/step - loss: 0.6024 - accuracy: 0.6632 - val_loss: 0.3673 - val_accuracy: 0.8470\n",
            "Epoch 2/5\n",
            "625/625 [==============================] - 1s 2ms/step - loss: 0.3353 - accuracy: 0.8619 - val_loss: 0.3402 - val_accuracy: 0.8571\n",
            "Epoch 3/5\n",
            "625/625 [==============================] - 1s 2ms/step - loss: 0.3135 - accuracy: 0.8714 - val_loss: 0.3380 - val_accuracy: 0.8586\n",
            "Epoch 4/5\n",
            "625/625 [==============================] - 1s 2ms/step - loss: 0.3023 - accuracy: 0.8750 - val_loss: 0.3387 - val_accuracy: 0.8566\n",
            "Epoch 5/5\n",
            "625/625 [==============================] - 1s 2ms/step - loss: 0.2877 - accuracy: 0.8818 - val_loss: 0.3427 - val_accuracy: 0.8544\n",
            "157/157 [==============================] - 0s 1ms/step - loss: 0.3331 - accuracy: 0.8600\n",
            "Epoch 1/5\n",
            "625/625 [==============================] - 2s 2ms/step - loss: 0.5972 - accuracy: 0.6650 - val_loss: 0.3612 - val_accuracy: 0.8481\n",
            "Epoch 2/5\n",
            "625/625 [==============================] - 1s 2ms/step - loss: 0.3294 - accuracy: 0.8669 - val_loss: 0.3376 - val_accuracy: 0.8563\n",
            "Epoch 3/5\n",
            "625/625 [==============================] - 1s 2ms/step - loss: 0.3074 - accuracy: 0.8746 - val_loss: 0.3381 - val_accuracy: 0.8551\n",
            "Epoch 4/5\n",
            "625/625 [==============================] - 1s 2ms/step - loss: 0.2966 - accuracy: 0.8795 - val_loss: 0.3456 - val_accuracy: 0.8520\n",
            "Epoch 5/5\n",
            "625/625 [==============================] - 1s 2ms/step - loss: 0.2857 - accuracy: 0.8833 - val_loss: 0.3422 - val_accuracy: 0.8543\n",
            "157/157 [==============================] - 0s 1ms/step - loss: 0.3467 - accuracy: 0.8506\n",
            "Epoch 1/5\n",
            "625/625 [==============================] - 2s 2ms/step - loss: 0.5991 - accuracy: 0.6716 - val_loss: 0.3606 - val_accuracy: 0.8498\n",
            "Epoch 2/5\n",
            "625/625 [==============================] - 1s 2ms/step - loss: 0.3270 - accuracy: 0.8649 - val_loss: 0.3385 - val_accuracy: 0.8566\n",
            "Epoch 3/5\n",
            "625/625 [==============================] - 1s 2ms/step - loss: 0.3062 - accuracy: 0.8721 - val_loss: 0.3377 - val_accuracy: 0.8553\n",
            "Epoch 4/5\n",
            "625/625 [==============================] - 1s 2ms/step - loss: 0.2992 - accuracy: 0.8780 - val_loss: 0.3417 - val_accuracy: 0.8534\n",
            "Epoch 5/5\n",
            "625/625 [==============================] - 1s 2ms/step - loss: 0.2863 - accuracy: 0.8832 - val_loss: 0.3413 - val_accuracy: 0.8530\n",
            "157/157 [==============================] - 0s 1ms/step - loss: 0.3384 - accuracy: 0.8554\n",
            "Epoch 1/5\n",
            "625/625 [==============================] - 2s 2ms/step - loss: 0.5845 - accuracy: 0.6823 - val_loss: 0.3594 - val_accuracy: 0.8492\n",
            "Epoch 2/5\n",
            "625/625 [==============================] - 1s 2ms/step - loss: 0.3316 - accuracy: 0.8641 - val_loss: 0.3412 - val_accuracy: 0.8566\n",
            "Epoch 3/5\n",
            "625/625 [==============================] - 1s 2ms/step - loss: 0.3096 - accuracy: 0.8688 - val_loss: 0.3417 - val_accuracy: 0.8532\n",
            "Epoch 4/5\n",
            "625/625 [==============================] - 1s 2ms/step - loss: 0.3022 - accuracy: 0.8753 - val_loss: 0.3420 - val_accuracy: 0.8529\n",
            "Epoch 5/5\n",
            "625/625 [==============================] - 1s 2ms/step - loss: 0.2899 - accuracy: 0.8836 - val_loss: 0.3474 - val_accuracy: 0.8498\n",
            "157/157 [==============================] - 0s 1ms/step - loss: 0.3337 - accuracy: 0.8608\n",
            "Epoch 1/5\n",
            "625/625 [==============================] - 2s 3ms/step - loss: 0.5595 - accuracy: 0.6982 - val_loss: 0.3468 - val_accuracy: 0.8527\n",
            "Epoch 2/5\n",
            "625/625 [==============================] - 2s 2ms/step - loss: 0.3164 - accuracy: 0.8688 - val_loss: 0.3396 - val_accuracy: 0.8546\n",
            "Epoch 3/5\n",
            "625/625 [==============================] - 1s 2ms/step - loss: 0.3003 - accuracy: 0.8761 - val_loss: 0.3413 - val_accuracy: 0.8551\n",
            "Epoch 4/5\n",
            "625/625 [==============================] - 1s 2ms/step - loss: 0.2913 - accuracy: 0.8791 - val_loss: 0.3430 - val_accuracy: 0.8528\n",
            "Epoch 5/5\n",
            "625/625 [==============================] - 1s 2ms/step - loss: 0.2712 - accuracy: 0.8873 - val_loss: 0.3583 - val_accuracy: 0.8461\n",
            "157/157 [==============================] - 0s 1ms/step - loss: 0.3542 - accuracy: 0.8566\n",
            "Epoch 1/5\n",
            "625/625 [==============================] - 2s 3ms/step - loss: 0.5597 - accuracy: 0.7000 - val_loss: 0.3480 - val_accuracy: 0.8522\n",
            "Epoch 2/5\n",
            "625/625 [==============================] - 2s 2ms/step - loss: 0.3155 - accuracy: 0.8697 - val_loss: 0.3400 - val_accuracy: 0.8556\n",
            "Epoch 3/5\n",
            "625/625 [==============================] - 2s 2ms/step - loss: 0.3009 - accuracy: 0.8758 - val_loss: 0.3430 - val_accuracy: 0.8523\n",
            "Epoch 4/5\n",
            "625/625 [==============================] - 2s 2ms/step - loss: 0.2855 - accuracy: 0.8829 - val_loss: 0.3403 - val_accuracy: 0.8538\n",
            "Epoch 5/5\n",
            "625/625 [==============================] - 2s 2ms/step - loss: 0.2624 - accuracy: 0.8958 - val_loss: 0.3507 - val_accuracy: 0.8513\n",
            "157/157 [==============================] - 0s 1ms/step - loss: 0.3371 - accuracy: 0.8592\n",
            "Epoch 1/5\n",
            "625/625 [==============================] - 2s 3ms/step - loss: 0.5511 - accuracy: 0.7209 - val_loss: 0.3466 - val_accuracy: 0.8517\n",
            "Epoch 2/5\n",
            "625/625 [==============================] - 2s 2ms/step - loss: 0.3168 - accuracy: 0.8704 - val_loss: 0.3356 - val_accuracy: 0.8555\n",
            "Epoch 3/5\n",
            "625/625 [==============================] - 1s 2ms/step - loss: 0.3016 - accuracy: 0.8748 - val_loss: 0.3391 - val_accuracy: 0.8530\n",
            "Epoch 4/5\n",
            "625/625 [==============================] - 2s 2ms/step - loss: 0.2879 - accuracy: 0.8840 - val_loss: 0.3449 - val_accuracy: 0.8530\n",
            "Epoch 5/5\n",
            "625/625 [==============================] - 1s 2ms/step - loss: 0.2698 - accuracy: 0.8930 - val_loss: 0.3458 - val_accuracy: 0.8513\n",
            "157/157 [==============================] - 0s 1ms/step - loss: 0.3474 - accuracy: 0.8562\n",
            "Epoch 1/5\n",
            "625/625 [==============================] - 2s 3ms/step - loss: 0.5592 - accuracy: 0.6955 - val_loss: 0.3474 - val_accuracy: 0.8519\n",
            "Epoch 2/5\n",
            "625/625 [==============================] - 2s 2ms/step - loss: 0.3149 - accuracy: 0.8705 - val_loss: 0.3364 - val_accuracy: 0.8561\n",
            "Epoch 3/5\n",
            "625/625 [==============================] - 1s 2ms/step - loss: 0.3028 - accuracy: 0.8706 - val_loss: 0.3405 - val_accuracy: 0.8523\n",
            "Epoch 4/5\n",
            "625/625 [==============================] - 1s 2ms/step - loss: 0.2955 - accuracy: 0.8804 - val_loss: 0.3418 - val_accuracy: 0.8512\n",
            "Epoch 5/5\n",
            "625/625 [==============================] - 2s 2ms/step - loss: 0.2760 - accuracy: 0.8876 - val_loss: 0.3467 - val_accuracy: 0.8495\n",
            "157/157 [==============================] - 0s 1ms/step - loss: 0.3383 - accuracy: 0.8566\n",
            "Epoch 1/5\n",
            "625/625 [==============================] - 2s 3ms/step - loss: 0.5583 - accuracy: 0.7061 - val_loss: 0.3510 - val_accuracy: 0.8519\n",
            "Epoch 2/5\n",
            "625/625 [==============================] - 2s 2ms/step - loss: 0.3249 - accuracy: 0.8635 - val_loss: 0.3412 - val_accuracy: 0.8535\n",
            "Epoch 3/5\n",
            "625/625 [==============================] - 2s 2ms/step - loss: 0.3058 - accuracy: 0.8707 - val_loss: 0.3453 - val_accuracy: 0.8509\n",
            "Epoch 4/5\n",
            "625/625 [==============================] - 2s 2ms/step - loss: 0.2986 - accuracy: 0.8767 - val_loss: 0.3427 - val_accuracy: 0.8526\n",
            "Epoch 5/5\n",
            "625/625 [==============================] - 2s 3ms/step - loss: 0.2820 - accuracy: 0.8858 - val_loss: 0.3445 - val_accuracy: 0.8513\n",
            "157/157 [==============================] - 0s 1ms/step - loss: 0.3322 - accuracy: 0.8600\n",
            "Epoch 1/5\n",
            "782/782 [==============================] - 2s 2ms/step - loss: 0.6423 - accuracy: 0.6313 - val_loss: 0.4306 - val_accuracy: 0.8241\n",
            "Epoch 2/5\n",
            "782/782 [==============================] - 2s 2ms/step - loss: 0.3931 - accuracy: 0.8380 - val_loss: 0.3571 - val_accuracy: 0.8472\n",
            "Epoch 3/5\n",
            "782/782 [==============================] - 2s 3ms/step - loss: 0.3258 - accuracy: 0.8668 - val_loss: 0.3421 - val_accuracy: 0.8553\n",
            "Epoch 4/5\n",
            "782/782 [==============================] - 2s 3ms/step - loss: 0.3147 - accuracy: 0.8685 - val_loss: 0.3373 - val_accuracy: 0.8574\n",
            "Epoch 5/5\n",
            "782/782 [==============================] - 2s 2ms/step - loss: 0.3046 - accuracy: 0.8742 - val_loss: 0.3364 - val_accuracy: 0.8582\n"
          ],
          "name": "stdout"
        },
        {
          "output_type": "execute_result",
          "data": {
            "text/plain": [
              "GridSearchCV(cv=None, error_score=nan,\n",
              "             estimator=<tensorflow.python.keras.wrappers.scikit_learn.KerasRegressor object at 0x7f07c1d48350>,\n",
              "             iid='deprecated', n_jobs=None,\n",
              "             param_grid={'learning_rate': [1e-05, 0.0001, 0.0003],\n",
              "                         'n_units': [10, 16, 32]},\n",
              "             pre_dispatch='2*n_jobs', refit=True, return_train_score=False,\n",
              "             scoring=None, verbose=0)"
            ]
          },
          "metadata": {
            "tags": []
          },
          "execution_count": 27
        }
      ]
    },
    {
      "cell_type": "markdown",
      "metadata": {
        "id": "aadmkiOoyM94"
      },
      "source": [
        "Print the best hyper-parameters, and evealuate the best model on the test set."
      ]
    },
    {
      "cell_type": "code",
      "metadata": {
        "id": "b0nL5OZkylNX",
        "colab": {
          "base_uri": "https://localhost:8080/"
        },
        "outputId": "0f1939a3-a47e-426a-e9ba-f1d9cb972269"
      },
      "source": [
        "print(grid_search.best_params_)\n",
        "\n",
        "model = grid_search.best_estimator_.model\n",
        "model.evaluate(X_test, y_test)"
      ],
      "execution_count": null,
      "outputs": [
        {
          "output_type": "stream",
          "text": [
            "{'learning_rate': 0.0001, 'n_units': 32}\n",
            "391/391 [==============================] - 0s 1ms/step - loss: 0.3184 - accuracy: 0.8658\n"
          ],
          "name": "stdout"
        },
        {
          "output_type": "execute_result",
          "data": {
            "text/plain": [
              "[0.31844690442085266, 0.8657600283622742]"
            ]
          },
          "metadata": {
            "tags": []
          },
          "execution_count": 28
        }
      ]
    }
  ]
}